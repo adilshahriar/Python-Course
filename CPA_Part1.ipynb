{
  "nbformat": 4,
  "nbformat_minor": 0,
  "metadata": {
    "colab": {
      "name": "CPA Part1.ipynb",
      "provenance": []
    },
    "kernelspec": {
      "name": "python3",
      "display_name": "Python 3"
    },
    "language_info": {
      "name": "python"
    }
  },
  "cells": [
    {
      "cell_type": "code",
      "metadata": {
        "id": "-lS4eos1_pin"
      },
      "source": [
        "import matplotlib.pyplot as plt\n",
        "import matplotlib.mlab as mlab\n",
        "import seaborn as sns\n",
        "import pandas as pd\n",
        "import numpy as np"
      ],
      "execution_count": null,
      "outputs": []
    },
    {
      "cell_type": "code",
      "metadata": {
        "colab": {
          "base_uri": "https://localhost:8080/",
          "height": 222
        },
        "id": "QGmB6eY3_zKB",
        "outputId": "ade8a4ca-0894-4e58-c30f-5260ad52c650"
      },
      "source": [
        ""
      ],
      "execution_count": null,
      "outputs": [
        {
          "output_type": "execute_result",
          "data": {
            "text/html": [
              "<div>\n",
              "<style scoped>\n",
              "    .dataframe tbody tr th:only-of-type {\n",
              "        vertical-align: middle;\n",
              "    }\n",
              "\n",
              "    .dataframe tbody tr th {\n",
              "        vertical-align: top;\n",
              "    }\n",
              "\n",
              "    .dataframe thead th {\n",
              "        text-align: right;\n",
              "    }\n",
              "</style>\n",
              "<table border=\"1\" class=\"dataframe\">\n",
              "  <thead>\n",
              "    <tr style=\"text-align: right;\">\n",
              "      <th></th>\n",
              "      <th>District</th>\n",
              "      <th>Age</th>\n",
              "      <th>Gender</th>\n",
              "      <th>Education</th>\n",
              "      <th>Occupation</th>\n",
              "      <th>Income</th>\n",
              "      <th>PrticipatedPrepPlan</th>\n",
              "      <th>ContributeFund</th>\n",
              "      <th>PreparednessPlan</th>\n",
              "      <th>GrabBag</th>\n",
              "      <th>ExtraMoney</th>\n",
              "      <th>FirstAidHome</th>\n",
              "      <th>SimulationExercise</th>\n",
              "      <th>CompositeScore</th>\n",
              "    </tr>\n",
              "  </thead>\n",
              "  <tbody>\n",
              "    <tr>\n",
              "      <th>0</th>\n",
              "      <td>1</td>\n",
              "      <td>30.0</td>\n",
              "      <td>0.0</td>\n",
              "      <td>3</td>\n",
              "      <td>9.0</td>\n",
              "      <td>240000.0</td>\n",
              "      <td>0</td>\n",
              "      <td>0</td>\n",
              "      <td>0.0</td>\n",
              "      <td>0.0</td>\n",
              "      <td>0.0</td>\n",
              "      <td>0</td>\n",
              "      <td>0</td>\n",
              "      <td>0</td>\n",
              "    </tr>\n",
              "    <tr>\n",
              "      <th>1</th>\n",
              "      <td>1</td>\n",
              "      <td>32.0</td>\n",
              "      <td>0.0</td>\n",
              "      <td>2</td>\n",
              "      <td>9.0</td>\n",
              "      <td>75000.0</td>\n",
              "      <td>0</td>\n",
              "      <td>0</td>\n",
              "      <td>0.0</td>\n",
              "      <td>0.0</td>\n",
              "      <td>1.0</td>\n",
              "      <td>0</td>\n",
              "      <td>0</td>\n",
              "      <td>1</td>\n",
              "    </tr>\n",
              "    <tr>\n",
              "      <th>2</th>\n",
              "      <td>1</td>\n",
              "      <td>40.0</td>\n",
              "      <td>0.0</td>\n",
              "      <td>1</td>\n",
              "      <td>9.0</td>\n",
              "      <td>95000.0</td>\n",
              "      <td>0</td>\n",
              "      <td>0</td>\n",
              "      <td>0.0</td>\n",
              "      <td>0.0</td>\n",
              "      <td>0.0</td>\n",
              "      <td>0</td>\n",
              "      <td>0</td>\n",
              "      <td>0</td>\n",
              "    </tr>\n",
              "    <tr>\n",
              "      <th>3</th>\n",
              "      <td>1</td>\n",
              "      <td>28.0</td>\n",
              "      <td>1.0</td>\n",
              "      <td>2</td>\n",
              "      <td>6.0</td>\n",
              "      <td>180000.0</td>\n",
              "      <td>0</td>\n",
              "      <td>0</td>\n",
              "      <td>0.0</td>\n",
              "      <td>0.0</td>\n",
              "      <td>0.0</td>\n",
              "      <td>0</td>\n",
              "      <td>1</td>\n",
              "      <td>1</td>\n",
              "    </tr>\n",
              "    <tr>\n",
              "      <th>4</th>\n",
              "      <td>1</td>\n",
              "      <td>58.0</td>\n",
              "      <td>0.0</td>\n",
              "      <td>2</td>\n",
              "      <td>9.0</td>\n",
              "      <td>75000.0</td>\n",
              "      <td>0</td>\n",
              "      <td>0</td>\n",
              "      <td>0.0</td>\n",
              "      <td>0.0</td>\n",
              "      <td>0.0</td>\n",
              "      <td>0</td>\n",
              "      <td>1</td>\n",
              "      <td>1</td>\n",
              "    </tr>\n",
              "  </tbody>\n",
              "</table>\n",
              "</div>"
            ],
            "text/plain": [
              "   District   Age  Gender  ...  FirstAidHome  SimulationExercise  CompositeScore\n",
              "0         1  30.0     0.0  ...             0                   0               0\n",
              "1         1  32.0     0.0  ...             0                   0               1\n",
              "2         1  40.0     0.0  ...             0                   0               0\n",
              "3         1  28.0     1.0  ...             0                   1               1\n",
              "4         1  58.0     0.0  ...             0                   1               1\n",
              "\n",
              "[5 rows x 14 columns]"
            ]
          },
          "metadata": {
            "tags": []
          },
          "execution_count": 2
        }
      ]
    },
    {
      "cell_type": "code",
      "metadata": {
        "colab": {
          "base_uri": "https://localhost:8080/"
        },
        "id": "IIBqenJFBq_F",
        "outputId": "4774a205-6ecc-4eef-cb0f-9c7dfb797a76"
      },
      "source": [
        "df.columns"
      ],
      "execution_count": null,
      "outputs": [
        {
          "output_type": "execute_result",
          "data": {
            "text/plain": [
              "Index(['Gender', 'Constructed', 'Floor', 'Member', 'Dis', 'Ethinic',\n",
              "       'education', 'Head'],\n",
              "      dtype='object')"
            ]
          },
          "metadata": {
            "tags": []
          },
          "execution_count": 41
        }
      ]
    },
    {
      "cell_type": "code",
      "metadata": {
        "colab": {
          "base_uri": "https://localhost:8080/"
        },
        "id": "5DSc-ckKBhjz",
        "outputId": "88cfb43e-d13e-48b9-90cf-1cbee0ff111c"
      },
      "source": [
        "df.Gender.unique()"
      ],
      "execution_count": null,
      "outputs": [
        {
          "output_type": "execute_result",
          "data": {
            "text/plain": [
              "array(['Female', 'Male', nan], dtype=object)"
            ]
          },
          "metadata": {
            "tags": []
          },
          "execution_count": 42
        }
      ]
    },
    {
      "cell_type": "code",
      "metadata": {
        "colab": {
          "base_uri": "https://localhost:8080/"
        },
        "id": "w9Rg8Zr0AtXu",
        "outputId": "25dfcf57-33fe-425c-cb10-b10381416c88"
      },
      "source": [
        "df.Floor.unique()"
      ],
      "execution_count": null,
      "outputs": [
        {
          "output_type": "execute_result",
          "data": {
            "text/plain": [
              "array(['Earth', 'Concrete', 'Wood', 'Bamboo', nan, 'Carpet'], dtype=object)"
            ]
          },
          "metadata": {
            "tags": []
          },
          "execution_count": 43
        }
      ]
    },
    {
      "cell_type": "code",
      "metadata": {
        "id": "QPQ86zJGBd-M"
      },
      "source": [
        "#use of mapping function\n",
        "mapping = {'Male' :1 , 'Female' : 0 }\n",
        "df['Gender'] = df['Gender'].map(mapping)\n",
        "\n",
        "mapping = {'Earth' :1 , 'Concrete' : 2,'Wood' :3 , 'Bamboo' : 4,  'Carpet' : 5 }\n",
        "df['Floor'] = df['Floor'].map(mapping)\n"
      ],
      "execution_count": null,
      "outputs": []
    },
    {
      "cell_type": "code",
      "metadata": {
        "colab": {
          "base_uri": "https://localhost:8080/"
        },
        "id": "p1fJ-W42AirW",
        "outputId": "939cd74e-0bc0-4daa-ed94-df6ac7880e5f"
      },
      "source": [
        "df.Constructed.unique()"
      ],
      "execution_count": null,
      "outputs": [
        {
          "output_type": "execute_result",
          "data": {
            "text/plain": [
              "array(['Wooden House (1 story) ', 'Wooden House (2 story) ', 'Tin',\n",
              "       'Bamboo Hut (Bamboo pole, bamboo mat and thatch roof)',\n",
              "       'Wooden Bamboo Hut (Timber pole and floor, bamboo mat and thatch roof)',\n",
              "       'Concrete Building', 'Brick Noggin Building', nan], dtype=object)"
            ]
          },
          "metadata": {
            "tags": []
          },
          "execution_count": 46
        }
      ]
    },
    {
      "cell_type": "code",
      "metadata": {
        "id": "wPuVahaxAIyO"
      },
      "source": [
        "mapping = {'Wooden House (1 story) ':1 , 'Wooden House (2 story) ' : 2,'Tin' :3 , 'Bamboo Hut (Bamboo pole, bamboo mat and thatch roof)' : 4,  \n",
        "           'Wooden Bamboo Hut (Timber pole and floor, bamboo mat and thatch roof)' : 5,'Concrete Building' :6,'Brick Noggin Building' :7 }\n",
        "df['Constructed'] = df['Constructed'].map(mapping)\n"
      ],
      "execution_count": null,
      "outputs": []
    },
    {
      "cell_type": "code",
      "metadata": {
        "colab": {
          "base_uri": "https://localhost:8080/"
        },
        "id": "iCyB1IgzEuOO",
        "outputId": "b3085783-1344-41a1-997e-53fc5e129a0f"
      },
      "source": [
        "df.Ethinic.unique()"
      ],
      "execution_count": null,
      "outputs": [
        {
          "output_type": "execute_result",
          "data": {
            "text/plain": [
              "array(['Bangalee', nan, 'Rakhine', 'Khotrio'], dtype=object)"
            ]
          },
          "metadata": {
            "tags": []
          },
          "execution_count": 48
        }
      ]
    },
    {
      "cell_type": "code",
      "metadata": {
        "id": "wiBdDotsLO8D"
      },
      "source": [
        "mapping = {'Bangalee' :1 , 'Rakhine' : 2,'Khotrio' :3 }\n",
        "df['Ethinic'] = df['Ethinic'].map(mapping)"
      ],
      "execution_count": null,
      "outputs": []
    },
    {
      "cell_type": "code",
      "metadata": {
        "colab": {
          "base_uri": "https://localhost:8080/"
        },
        "id": "ADsyJ-iKLcWs",
        "outputId": "4975a762-ad13-4ed5-8595-6033c7de4055"
      },
      "source": [
        "df.education.unique()"
      ],
      "execution_count": null,
      "outputs": [
        {
          "output_type": "execute_result",
          "data": {
            "text/plain": [
              "array(['School Secondary Certificate', 'Primary ', 'Literate',\n",
              "       'Never went to school', 'Graduate', 'Higher Secondary Certificate',\n",
              "       'Master', nan, 'Undergraduate'], dtype=object)"
            ]
          },
          "metadata": {
            "tags": []
          },
          "execution_count": 51
        }
      ]
    },
    {
      "cell_type": "code",
      "metadata": {
        "id": "i4Q9E17jLj6j"
      },
      "source": [
        "mapping = {'School Secondary Certificate':4 , 'Primary ' : 3,'Literate' :2,'Never went to school':1 , \n",
        "           'Graduate' : 7,'Higher Secondary Certificate' :5 ,'Master' :8,'Undergraduate':6}\n",
        "df['education'] = df['education'].map(mapping)"
      ],
      "execution_count": null,
      "outputs": []
    },
    {
      "cell_type": "code",
      "metadata": {
        "colab": {
          "base_uri": "https://localhost:8080/"
        },
        "id": "P8wmXoIFMZZl",
        "outputId": "ee5d7e50-e319-45ca-e7d0-2b05d22cecfd"
      },
      "source": [
        "df.Head.unique()"
      ],
      "execution_count": null,
      "outputs": [
        {
          "output_type": "execute_result",
          "data": {
            "text/plain": [
              "array(['Husband', 'Self', 'Son', 'Father', 'Wife',\n",
              "       'Others (Please specify)', 'Mother', 'Nephew', nan, 'Brother',\n",
              "       'Father in law', 'Daughter in law', 'Sister'], dtype=object)"
            ]
          },
          "metadata": {
            "tags": []
          },
          "execution_count": 55
        }
      ]
    },
    {
      "cell_type": "code",
      "metadata": {
        "id": "ztc9VKc3MlYn"
      },
      "source": [
        "mapping = {'Husband':1 , 'Self ' : 2,'Father' :3,'Wife':4 , \n",
        "           'Others (Please specify)' : 5,'Mother' :6 ,'Nephew' :7,'Brother':8,'Father in law':9,'Daughter in law':10,'Sister':11}\n",
        "df['Head'] = df['Head'].map(mapping)"
      ],
      "execution_count": null,
      "outputs": []
    },
    {
      "cell_type": "code",
      "metadata": {
        "colab": {
          "base_uri": "https://localhost:8080/",
          "height": 202
        },
        "id": "uXgCKazFEOQL",
        "outputId": "98a6381f-4edb-4bd1-dd8d-2deb55aa716d"
      },
      "source": [
        "df.head()"
      ],
      "execution_count": null,
      "outputs": [
        {
          "output_type": "execute_result",
          "data": {
            "text/html": [
              "<div>\n",
              "<style scoped>\n",
              "    .dataframe tbody tr th:only-of-type {\n",
              "        vertical-align: middle;\n",
              "    }\n",
              "\n",
              "    .dataframe tbody tr th {\n",
              "        vertical-align: top;\n",
              "    }\n",
              "\n",
              "    .dataframe thead th {\n",
              "        text-align: right;\n",
              "    }\n",
              "</style>\n",
              "<table border=\"1\" class=\"dataframe\">\n",
              "  <thead>\n",
              "    <tr style=\"text-align: right;\">\n",
              "      <th></th>\n",
              "      <th>Gender</th>\n",
              "      <th>Constructed</th>\n",
              "      <th>Floor</th>\n",
              "      <th>Member</th>\n",
              "      <th>Dis</th>\n",
              "      <th>Ethinic</th>\n",
              "      <th>education</th>\n",
              "      <th>Head</th>\n",
              "    </tr>\n",
              "  </thead>\n",
              "  <tbody>\n",
              "    <tr>\n",
              "      <th>0</th>\n",
              "      <td>0.0</td>\n",
              "      <td>1.0</td>\n",
              "      <td>1.0</td>\n",
              "      <td>5.0</td>\n",
              "      <td>0.0</td>\n",
              "      <td>1.0</td>\n",
              "      <td>4.0</td>\n",
              "      <td>1.0</td>\n",
              "    </tr>\n",
              "    <tr>\n",
              "      <th>1</th>\n",
              "      <td>0.0</td>\n",
              "      <td>1.0</td>\n",
              "      <td>1.0</td>\n",
              "      <td>4.0</td>\n",
              "      <td>0.0</td>\n",
              "      <td>1.0</td>\n",
              "      <td>3.0</td>\n",
              "      <td>1.0</td>\n",
              "    </tr>\n",
              "    <tr>\n",
              "      <th>2</th>\n",
              "      <td>0.0</td>\n",
              "      <td>1.0</td>\n",
              "      <td>1.0</td>\n",
              "      <td>5.0</td>\n",
              "      <td>0.0</td>\n",
              "      <td>1.0</td>\n",
              "      <td>2.0</td>\n",
              "      <td>1.0</td>\n",
              "    </tr>\n",
              "    <tr>\n",
              "      <th>3</th>\n",
              "      <td>1.0</td>\n",
              "      <td>1.0</td>\n",
              "      <td>1.0</td>\n",
              "      <td>3.0</td>\n",
              "      <td>0.0</td>\n",
              "      <td>1.0</td>\n",
              "      <td>3.0</td>\n",
              "      <td>NaN</td>\n",
              "    </tr>\n",
              "    <tr>\n",
              "      <th>4</th>\n",
              "      <td>0.0</td>\n",
              "      <td>1.0</td>\n",
              "      <td>1.0</td>\n",
              "      <td>5.0</td>\n",
              "      <td>0.0</td>\n",
              "      <td>1.0</td>\n",
              "      <td>3.0</td>\n",
              "      <td>1.0</td>\n",
              "    </tr>\n",
              "  </tbody>\n",
              "</table>\n",
              "</div>"
            ],
            "text/plain": [
              "   Gender  Constructed  Floor  Member  Dis  Ethinic  education  Head\n",
              "0     0.0          1.0    1.0     5.0  0.0      1.0        4.0   1.0\n",
              "1     0.0          1.0    1.0     4.0  0.0      1.0        3.0   1.0\n",
              "2     0.0          1.0    1.0     5.0  0.0      1.0        2.0   1.0\n",
              "3     1.0          1.0    1.0     3.0  0.0      1.0        3.0   NaN\n",
              "4     0.0          1.0    1.0     5.0  0.0      1.0        3.0   1.0"
            ]
          },
          "metadata": {
            "tags": []
          },
          "execution_count": 64
        }
      ]
    },
    {
      "cell_type": "code",
      "metadata": {
        "colab": {
          "base_uri": "https://localhost:8080/"
        },
        "id": "qN1lpO9PPval",
        "outputId": "d4298101-e39d-488c-edf2-320f7d5376d7"
      },
      "source": [
        "df.groupby(['Gender', 'education']).education.mean()"
      ],
      "execution_count": null,
      "outputs": [
        {
          "output_type": "execute_result",
          "data": {
            "text/plain": [
              "<pandas.core.groupby.generic.DataFrameGroupBy object at 0x7fa8daa5c750>"
            ]
          },
          "metadata": {
            "tags": []
          },
          "execution_count": 81
        }
      ]
    },
    {
      "cell_type": "code",
      "metadata": {
        "colab": {
          "base_uri": "https://localhost:8080/"
        },
        "id": "3rQcMiG-RZRL",
        "outputId": "96b132ea-8637-46e8-cd86-cc4d29ff4f44"
      },
      "source": [
        "df.groupby('Gender')['education'].mean()"
      ],
      "execution_count": null,
      "outputs": [
        {
          "output_type": "execute_result",
          "data": {
            "text/plain": [
              "Gender\n",
              "0.0    2.830709\n",
              "1.0    2.930435\n",
              "Name: education, dtype: float64"
            ]
          },
          "metadata": {
            "tags": []
          },
          "execution_count": 83
        }
      ]
    },
    {
      "cell_type": "code",
      "metadata": {
        "colab": {
          "base_uri": "https://localhost:8080/"
        },
        "id": "8Sj7wwfuSYtI",
        "outputId": "6794f08d-3dcc-4556-8dfe-1a4fd6265482"
      },
      "source": [
        "df.groupby('Gender')['education'].std()"
      ],
      "execution_count": null,
      "outputs": [
        {
          "output_type": "execute_result",
          "data": {
            "text/plain": [
              "Gender\n",
              "0.0    1.024831\n",
              "1.0    1.313163\n",
              "Name: education, dtype: float64"
            ]
          },
          "metadata": {
            "tags": []
          },
          "execution_count": 87
        }
      ]
    },
    {
      "cell_type": "code",
      "metadata": {
        "colab": {
          "base_uri": "https://localhost:8080/"
        },
        "id": "xoyKjxuPTLad",
        "outputId": "81db5959-48a3-4db0-c14e-4ec94aaa4f70"
      },
      "source": [
        "df.groupby('Gender')['Member'].mean()"
      ],
      "execution_count": null,
      "outputs": [
        {
          "output_type": "execute_result",
          "data": {
            "text/plain": [
              "Gender\n",
              "0.0    4.731225\n",
              "1.0    5.188596\n",
              "Name: Member, dtype: float64"
            ]
          },
          "metadata": {
            "tags": []
          },
          "execution_count": 88
        }
      ]
    },
    {
      "cell_type": "code",
      "metadata": {
        "colab": {
          "base_uri": "https://localhost:8080/"
        },
        "id": "ePrNgPODTW7k",
        "outputId": "a4a6c3a2-063a-4384-d612-05f7da87d245"
      },
      "source": [
        "df.groupby('Gender')['Member'].std()"
      ],
      "execution_count": null,
      "outputs": [
        {
          "output_type": "execute_result",
          "data": {
            "text/plain": [
              "Gender\n",
              "0.0    3.395681\n",
              "1.0    4.061689\n",
              "Name: Member, dtype: float64"
            ]
          },
          "metadata": {
            "tags": []
          },
          "execution_count": 89
        }
      ]
    },
    {
      "cell_type": "code",
      "metadata": {
        "colab": {
          "base_uri": "https://localhost:8080/"
        },
        "id": "6-KOaOfHTYUh",
        "outputId": "f771bdd3-a275-4b2a-a78d-2b022416e29f"
      },
      "source": [
        "df.groupby('Gender')['Ethinic'].std()"
      ],
      "execution_count": null,
      "outputs": [
        {
          "output_type": "execute_result",
          "data": {
            "text/plain": [
              "Gender\n",
              "0.0    0.203011\n",
              "1.0    0.151513\n",
              "Name: Ethinic, dtype: float64"
            ]
          },
          "metadata": {
            "tags": []
          },
          "execution_count": 91
        }
      ]
    },
    {
      "cell_type": "code",
      "metadata": {
        "colab": {
          "base_uri": "https://localhost:8080/"
        },
        "id": "Q0hhhm-pTjom",
        "outputId": "501068f6-2496-4d07-e098-38d2438737fb"
      },
      "source": [
        "df.groupby('Gender')['Dis'].mean()"
      ],
      "execution_count": null,
      "outputs": [
        {
          "output_type": "execute_result",
          "data": {
            "text/plain": [
              "Gender\n",
              "0.0    0.104418\n",
              "1.0    0.123288\n",
              "Name: Dis, dtype: float64"
            ]
          },
          "metadata": {
            "tags": []
          },
          "execution_count": 94
        }
      ]
    },
    {
      "cell_type": "code",
      "metadata": {
        "id": "omb2aWv4UPP8"
      },
      "source": [
        "def P(favourable_outcome, total_outcome):\n",
        "  p=favourable_outcome/total_outcome\n",
        "  print(\"Probability is\",round(p, 3))"
      ],
      "execution_count": null,
      "outputs": []
    },
    {
      "cell_type": "markdown",
      "metadata": {
        "id": "tQc65dHvHElz"
      },
      "source": [
        "**Part2**"
      ]
    },
    {
      "cell_type": "code",
      "metadata": {
        "colab": {
          "base_uri": "https://localhost:8080/",
          "height": 222
        },
        "id": "BVY3MynGHH8N",
        "outputId": "2e1fcfac-b456-43ed-ae1e-17ec3639de95"
      },
      "source": [
        "url='https://raw.githubusercontent.com/FazlyRabbiBD/AcademicWorkspace/master/CPE3.csv'\n",
        "df = pd.read_csv(url)\n",
        "df.head()"
      ],
      "execution_count": null,
      "outputs": [
        {
          "output_type": "execute_result",
          "data": {
            "text/html": [
              "<div>\n",
              "<style scoped>\n",
              "    .dataframe tbody tr th:only-of-type {\n",
              "        vertical-align: middle;\n",
              "    }\n",
              "\n",
              "    .dataframe tbody tr th {\n",
              "        vertical-align: top;\n",
              "    }\n",
              "\n",
              "    .dataframe thead th {\n",
              "        text-align: right;\n",
              "    }\n",
              "</style>\n",
              "<table border=\"1\" class=\"dataframe\">\n",
              "  <thead>\n",
              "    <tr style=\"text-align: right;\">\n",
              "      <th></th>\n",
              "      <th>District</th>\n",
              "      <th>Age</th>\n",
              "      <th>Gender</th>\n",
              "      <th>Education</th>\n",
              "      <th>Occupation</th>\n",
              "      <th>Income</th>\n",
              "      <th>PrticipatedPrepPlan</th>\n",
              "      <th>ContributeFund</th>\n",
              "      <th>PreparednessPlan</th>\n",
              "      <th>GrabBag</th>\n",
              "      <th>ExtraMoney</th>\n",
              "      <th>FirstAidHome</th>\n",
              "      <th>SimulationExercise</th>\n",
              "      <th>CompositeScore</th>\n",
              "    </tr>\n",
              "  </thead>\n",
              "  <tbody>\n",
              "    <tr>\n",
              "      <th>0</th>\n",
              "      <td>1</td>\n",
              "      <td>30.0</td>\n",
              "      <td>0.0</td>\n",
              "      <td>3</td>\n",
              "      <td>9.0</td>\n",
              "      <td>240000.0</td>\n",
              "      <td>0</td>\n",
              "      <td>0</td>\n",
              "      <td>0.0</td>\n",
              "      <td>0.0</td>\n",
              "      <td>0.0</td>\n",
              "      <td>0</td>\n",
              "      <td>0</td>\n",
              "      <td>0</td>\n",
              "    </tr>\n",
              "    <tr>\n",
              "      <th>1</th>\n",
              "      <td>1</td>\n",
              "      <td>32.0</td>\n",
              "      <td>0.0</td>\n",
              "      <td>2</td>\n",
              "      <td>9.0</td>\n",
              "      <td>75000.0</td>\n",
              "      <td>0</td>\n",
              "      <td>0</td>\n",
              "      <td>0.0</td>\n",
              "      <td>0.0</td>\n",
              "      <td>1.0</td>\n",
              "      <td>0</td>\n",
              "      <td>0</td>\n",
              "      <td>1</td>\n",
              "    </tr>\n",
              "    <tr>\n",
              "      <th>2</th>\n",
              "      <td>1</td>\n",
              "      <td>40.0</td>\n",
              "      <td>0.0</td>\n",
              "      <td>1</td>\n",
              "      <td>9.0</td>\n",
              "      <td>95000.0</td>\n",
              "      <td>0</td>\n",
              "      <td>0</td>\n",
              "      <td>0.0</td>\n",
              "      <td>0.0</td>\n",
              "      <td>0.0</td>\n",
              "      <td>0</td>\n",
              "      <td>0</td>\n",
              "      <td>0</td>\n",
              "    </tr>\n",
              "    <tr>\n",
              "      <th>3</th>\n",
              "      <td>1</td>\n",
              "      <td>28.0</td>\n",
              "      <td>1.0</td>\n",
              "      <td>2</td>\n",
              "      <td>6.0</td>\n",
              "      <td>180000.0</td>\n",
              "      <td>0</td>\n",
              "      <td>0</td>\n",
              "      <td>0.0</td>\n",
              "      <td>0.0</td>\n",
              "      <td>0.0</td>\n",
              "      <td>0</td>\n",
              "      <td>1</td>\n",
              "      <td>1</td>\n",
              "    </tr>\n",
              "    <tr>\n",
              "      <th>4</th>\n",
              "      <td>1</td>\n",
              "      <td>58.0</td>\n",
              "      <td>0.0</td>\n",
              "      <td>2</td>\n",
              "      <td>9.0</td>\n",
              "      <td>75000.0</td>\n",
              "      <td>0</td>\n",
              "      <td>0</td>\n",
              "      <td>0.0</td>\n",
              "      <td>0.0</td>\n",
              "      <td>0.0</td>\n",
              "      <td>0</td>\n",
              "      <td>1</td>\n",
              "      <td>1</td>\n",
              "    </tr>\n",
              "  </tbody>\n",
              "</table>\n",
              "</div>"
            ],
            "text/plain": [
              "   District   Age  Gender  ...  FirstAidHome  SimulationExercise  CompositeScore\n",
              "0         1  30.0     0.0  ...             0                   0               0\n",
              "1         1  32.0     0.0  ...             0                   0               1\n",
              "2         1  40.0     0.0  ...             0                   0               0\n",
              "3         1  28.0     1.0  ...             0                   1               1\n",
              "4         1  58.0     0.0  ...             0                   1               1\n",
              "\n",
              "[5 rows x 14 columns]"
            ]
          },
          "metadata": {
            "tags": []
          },
          "execution_count": 61
        }
      ]
    },
    {
      "cell_type": "code",
      "metadata": {
        "id": "n9hXzcggHLbs"
      },
      "source": [
        "mapping = {1.0:'Male' , 0.0 : 'Female'}\n",
        "df['Gender'] = df['Gender'].map(mapping)\n"
      ],
      "execution_count": null,
      "outputs": []
    },
    {
      "cell_type": "code",
      "metadata": {
        "id": "VTu4jiaqHqlz"
      },
      "source": [
        "mapping = {1:'Bagerhat' , 2 : 'Patuakhali', 3:'Khulna'}\n",
        "df['District'] = df['District'].map(mapping)\n"
      ],
      "execution_count": null,
      "outputs": []
    },
    {
      "cell_type": "code",
      "metadata": {
        "colab": {
          "base_uri": "https://localhost:8080/",
          "height": 222
        },
        "id": "ydpKGF99HeFt",
        "outputId": "fd617756-44c0-4ad4-cc9c-20cc0c9ab256"
      },
      "source": [
        "df.head()"
      ],
      "execution_count": null,
      "outputs": [
        {
          "output_type": "execute_result",
          "data": {
            "text/html": [
              "<div>\n",
              "<style scoped>\n",
              "    .dataframe tbody tr th:only-of-type {\n",
              "        vertical-align: middle;\n",
              "    }\n",
              "\n",
              "    .dataframe tbody tr th {\n",
              "        vertical-align: top;\n",
              "    }\n",
              "\n",
              "    .dataframe thead th {\n",
              "        text-align: right;\n",
              "    }\n",
              "</style>\n",
              "<table border=\"1\" class=\"dataframe\">\n",
              "  <thead>\n",
              "    <tr style=\"text-align: right;\">\n",
              "      <th></th>\n",
              "      <th>District</th>\n",
              "      <th>Age</th>\n",
              "      <th>Gender</th>\n",
              "      <th>Education</th>\n",
              "      <th>Occupation</th>\n",
              "      <th>Income</th>\n",
              "      <th>PrticipatedPrepPlan</th>\n",
              "      <th>ContributeFund</th>\n",
              "      <th>PreparednessPlan</th>\n",
              "      <th>GrabBag</th>\n",
              "      <th>ExtraMoney</th>\n",
              "      <th>FirstAidHome</th>\n",
              "      <th>SimulationExercise</th>\n",
              "      <th>CompositeScore</th>\n",
              "    </tr>\n",
              "  </thead>\n",
              "  <tbody>\n",
              "    <tr>\n",
              "      <th>0</th>\n",
              "      <td>Bagerhat</td>\n",
              "      <td>30.0</td>\n",
              "      <td>Female</td>\n",
              "      <td>3</td>\n",
              "      <td>9.0</td>\n",
              "      <td>240000.0</td>\n",
              "      <td>0</td>\n",
              "      <td>0</td>\n",
              "      <td>0.0</td>\n",
              "      <td>0.0</td>\n",
              "      <td>0.0</td>\n",
              "      <td>0</td>\n",
              "      <td>0</td>\n",
              "      <td>0</td>\n",
              "    </tr>\n",
              "    <tr>\n",
              "      <th>1</th>\n",
              "      <td>Bagerhat</td>\n",
              "      <td>32.0</td>\n",
              "      <td>Female</td>\n",
              "      <td>2</td>\n",
              "      <td>9.0</td>\n",
              "      <td>75000.0</td>\n",
              "      <td>0</td>\n",
              "      <td>0</td>\n",
              "      <td>0.0</td>\n",
              "      <td>0.0</td>\n",
              "      <td>1.0</td>\n",
              "      <td>0</td>\n",
              "      <td>0</td>\n",
              "      <td>1</td>\n",
              "    </tr>\n",
              "    <tr>\n",
              "      <th>2</th>\n",
              "      <td>Bagerhat</td>\n",
              "      <td>40.0</td>\n",
              "      <td>Female</td>\n",
              "      <td>1</td>\n",
              "      <td>9.0</td>\n",
              "      <td>95000.0</td>\n",
              "      <td>0</td>\n",
              "      <td>0</td>\n",
              "      <td>0.0</td>\n",
              "      <td>0.0</td>\n",
              "      <td>0.0</td>\n",
              "      <td>0</td>\n",
              "      <td>0</td>\n",
              "      <td>0</td>\n",
              "    </tr>\n",
              "    <tr>\n",
              "      <th>3</th>\n",
              "      <td>Bagerhat</td>\n",
              "      <td>28.0</td>\n",
              "      <td>Male</td>\n",
              "      <td>2</td>\n",
              "      <td>6.0</td>\n",
              "      <td>180000.0</td>\n",
              "      <td>0</td>\n",
              "      <td>0</td>\n",
              "      <td>0.0</td>\n",
              "      <td>0.0</td>\n",
              "      <td>0.0</td>\n",
              "      <td>0</td>\n",
              "      <td>1</td>\n",
              "      <td>1</td>\n",
              "    </tr>\n",
              "    <tr>\n",
              "      <th>4</th>\n",
              "      <td>Bagerhat</td>\n",
              "      <td>58.0</td>\n",
              "      <td>Female</td>\n",
              "      <td>2</td>\n",
              "      <td>9.0</td>\n",
              "      <td>75000.0</td>\n",
              "      <td>0</td>\n",
              "      <td>0</td>\n",
              "      <td>0.0</td>\n",
              "      <td>0.0</td>\n",
              "      <td>0.0</td>\n",
              "      <td>0</td>\n",
              "      <td>1</td>\n",
              "      <td>1</td>\n",
              "    </tr>\n",
              "  </tbody>\n",
              "</table>\n",
              "</div>"
            ],
            "text/plain": [
              "   District   Age  Gender  ...  FirstAidHome  SimulationExercise  CompositeScore\n",
              "0  Bagerhat  30.0  Female  ...             0                   0               0\n",
              "1  Bagerhat  32.0  Female  ...             0                   0               1\n",
              "2  Bagerhat  40.0  Female  ...             0                   0               0\n",
              "3  Bagerhat  28.0    Male  ...             0                   1               1\n",
              "4  Bagerhat  58.0  Female  ...             0                   1               1\n",
              "\n",
              "[5 rows x 14 columns]"
            ]
          },
          "metadata": {
            "tags": []
          },
          "execution_count": 10
        }
      ]
    },
    {
      "cell_type": "code",
      "metadata": {
        "colab": {
          "base_uri": "https://localhost:8080/"
        },
        "id": "Orc5vgFoHfub",
        "outputId": "df051719-2867-4e4e-9afe-4c44c354bf6c"
      },
      "source": [
        "df.groupby('District')['PrticipatedPrepPlan'].mean()"
      ],
      "execution_count": null,
      "outputs": [
        {
          "output_type": "execute_result",
          "data": {
            "text/plain": [
              "District\n",
              "Bagerhat      0.000000\n",
              "Khulna        0.012195\n",
              "Patuakhali    0.109091\n",
              "Name: PrticipatedPrepPlan, dtype: float64"
            ]
          },
          "metadata": {
            "tags": []
          },
          "execution_count": 11
        }
      ]
    },
    {
      "cell_type": "code",
      "metadata": {
        "colab": {
          "base_uri": "https://localhost:8080/"
        },
        "id": "DfOQHZMHIH-e",
        "outputId": "7fb0bbef-791f-4496-a68d-9f59e7390e60"
      },
      "source": [
        "df.groupby('District')['PrticipatedPrepPlan'].std()"
      ],
      "execution_count": null,
      "outputs": [
        {
          "output_type": "execute_result",
          "data": {
            "text/plain": [
              "District\n",
              "Bagerhat      0.000000\n",
              "Khulna        0.110432\n",
              "Patuakhali    0.312322\n",
              "Name: PrticipatedPrepPlan, dtype: float64"
            ]
          },
          "metadata": {
            "tags": []
          },
          "execution_count": 12
        }
      ]
    },
    {
      "cell_type": "code",
      "metadata": {
        "colab": {
          "base_uri": "https://localhost:8080/"
        },
        "id": "K5SN2g-pI3SG",
        "outputId": "74fc1bd4-1c55-4efc-dc93-007fa4dd82ec"
      },
      "source": [
        "df.groupby('District')['ContributeFund'].mean()"
      ],
      "execution_count": null,
      "outputs": [
        {
          "output_type": "execute_result",
          "data": {
            "text/plain": [
              "District\n",
              "Bagerhat      0.000000\n",
              "Khulna        0.000000\n",
              "Patuakhali    0.014545\n",
              "Name: ContributeFund, dtype: float64"
            ]
          },
          "metadata": {
            "tags": []
          },
          "execution_count": 16
        }
      ]
    },
    {
      "cell_type": "code",
      "metadata": {
        "colab": {
          "base_uri": "https://localhost:8080/"
        },
        "id": "1nkcUHqYJmgT",
        "outputId": "4b99c17e-20b1-4364-9f56-79e26369318d"
      },
      "source": [
        "df.groupby('District')['ContributeFund'].std()"
      ],
      "execution_count": null,
      "outputs": [
        {
          "output_type": "execute_result",
          "data": {
            "text/plain": [
              "District\n",
              "Bagerhat      0.000000\n",
              "Khulna        0.000000\n",
              "Patuakhali    0.119942\n",
              "Name: ContributeFund, dtype: float64"
            ]
          },
          "metadata": {
            "tags": []
          },
          "execution_count": 17
        }
      ]
    },
    {
      "cell_type": "code",
      "metadata": {
        "colab": {
          "base_uri": "https://localhost:8080/"
        },
        "id": "2VuEzujPJoBW",
        "outputId": "70fb635d-6ae7-4eae-c97e-9b630b840a7b"
      },
      "source": [
        "df.groupby('District')['PreparednessPlan'].mean()"
      ],
      "execution_count": null,
      "outputs": [
        {
          "output_type": "execute_result",
          "data": {
            "text/plain": [
              "District\n",
              "Bagerhat      0.029630\n",
              "Khulna        0.195122\n",
              "Patuakhali    0.115672\n",
              "Name: PreparednessPlan, dtype: float64"
            ]
          },
          "metadata": {
            "tags": []
          },
          "execution_count": 18
        }
      ]
    },
    {
      "cell_type": "code",
      "metadata": {
        "colab": {
          "base_uri": "https://localhost:8080/"
        },
        "id": "D7bbEB_EJo-k",
        "outputId": "2154e089-caf8-4f24-fa7f-71e1c3fe3bf5"
      },
      "source": [
        "df.groupby('District')['PreparednessPlan'].std()"
      ],
      "execution_count": null,
      "outputs": [
        {
          "output_type": "execute_result",
          "data": {
            "text/plain": [
              "District\n",
              "Bagerhat      0.170195\n",
              "Khulna        0.398733\n",
              "Patuakhali    0.320429\n",
              "Name: PreparednessPlan, dtype: float64"
            ]
          },
          "metadata": {
            "tags": []
          },
          "execution_count": 19
        }
      ]
    },
    {
      "cell_type": "code",
      "metadata": {
        "colab": {
          "base_uri": "https://localhost:8080/"
        },
        "id": "cEMgJ6QCJpkn",
        "outputId": "9fc63d15-14ca-4cd3-c835-56fb4d898b5d"
      },
      "source": [
        "df.groupby('District')['GrabBag'].mean()"
      ],
      "execution_count": null,
      "outputs": [
        {
          "output_type": "execute_result",
          "data": {
            "text/plain": [
              "District\n",
              "Bagerhat      0.400000\n",
              "Khulna        0.243902\n",
              "Patuakhali    0.350746\n",
              "Name: GrabBag, dtype: float64"
            ]
          },
          "metadata": {
            "tags": []
          },
          "execution_count": 20
        }
      ]
    },
    {
      "cell_type": "code",
      "metadata": {
        "colab": {
          "base_uri": "https://localhost:8080/"
        },
        "id": "7Ubz7Hj1JqbF",
        "outputId": "c9f41807-0781-450d-accf-785a9e4d2699"
      },
      "source": [
        "df.groupby('District')['GrabBag'].std()"
      ],
      "execution_count": null,
      "outputs": [
        {
          "output_type": "execute_result",
          "data": {
            "text/plain": [
              "District\n",
              "Bagerhat      0.491723\n",
              "Khulna        0.432077\n",
              "Patuakhali    0.478096\n",
              "Name: GrabBag, dtype: float64"
            ]
          },
          "metadata": {
            "tags": []
          },
          "execution_count": 21
        }
      ]
    },
    {
      "cell_type": "code",
      "metadata": {
        "colab": {
          "base_uri": "https://localhost:8080/"
        },
        "id": "SqF1cs_1Jry8",
        "outputId": "7ec9c4c5-b61b-4d2f-ea0f-df33dfe3bfc8"
      },
      "source": [
        "df.groupby('District')['ExtraMoney'].mean()"
      ],
      "execution_count": null,
      "outputs": [
        {
          "output_type": "execute_result",
          "data": {
            "text/plain": [
              "District\n",
              "Bagerhat      0.066667\n",
              "Khulna        0.146341\n",
              "Patuakhali    0.072993\n",
              "Name: ExtraMoney, dtype: float64"
            ]
          },
          "metadata": {
            "tags": []
          },
          "execution_count": 22
        }
      ]
    },
    {
      "cell_type": "code",
      "metadata": {
        "colab": {
          "base_uri": "https://localhost:8080/"
        },
        "id": "6iXkzN7xJsSG",
        "outputId": "abe498b5-2841-4976-876a-b89e603f40cb"
      },
      "source": [
        "df.groupby('District')['ExtraMoney'].std()"
      ],
      "execution_count": null,
      "outputs": [
        {
          "output_type": "execute_result",
          "data": {
            "text/plain": [
              "District\n",
              "Bagerhat      0.250373\n",
              "Khulna        0.355623\n",
              "Patuakhali    0.260601\n",
              "Name: ExtraMoney, dtype: float64"
            ]
          },
          "metadata": {
            "tags": []
          },
          "execution_count": 23
        }
      ]
    },
    {
      "cell_type": "code",
      "metadata": {
        "colab": {
          "base_uri": "https://localhost:8080/"
        },
        "id": "zDtaB2DEJsve",
        "outputId": "817ee471-2b98-43b0-d8c2-b54f82aecac1"
      },
      "source": [
        "df.groupby('District')['FirstAidHome'].mean()"
      ],
      "execution_count": null,
      "outputs": [
        {
          "output_type": "execute_result",
          "data": {
            "text/plain": [
              "District\n",
              "Bagerhat      0.000000\n",
              "Khulna        0.195122\n",
              "Patuakhali    0.069091\n",
              "Name: FirstAidHome, dtype: float64"
            ]
          },
          "metadata": {
            "tags": []
          },
          "execution_count": 24
        }
      ]
    },
    {
      "cell_type": "code",
      "metadata": {
        "colab": {
          "base_uri": "https://localhost:8080/"
        },
        "id": "_gziYXXoJthb",
        "outputId": "fa804182-c666-421c-beaa-b70255c6c976"
      },
      "source": [
        "df.groupby('District')['FirstAidHome'].std()"
      ],
      "execution_count": null,
      "outputs": [
        {
          "output_type": "execute_result",
          "data": {
            "text/plain": [
              "District\n",
              "Bagerhat      0.000000\n",
              "Khulna        0.398733\n",
              "Patuakhali    0.254071\n",
              "Name: FirstAidHome, dtype: float64"
            ]
          },
          "metadata": {
            "tags": []
          },
          "execution_count": 25
        }
      ]
    },
    {
      "cell_type": "code",
      "metadata": {
        "colab": {
          "base_uri": "https://localhost:8080/"
        },
        "id": "GBNmzWCzJuHS",
        "outputId": "d547901c-ac6d-4d2f-91b2-bb8347fb678a"
      },
      "source": [
        "df.groupby('District')['SimulationExercise'].mean()"
      ],
      "execution_count": null,
      "outputs": [
        {
          "output_type": "execute_result",
          "data": {
            "text/plain": [
              "District\n",
              "Bagerhat      0.385185\n",
              "Khulna        0.024390\n",
              "Patuakhali    0.087273\n",
              "Name: SimulationExercise, dtype: float64"
            ]
          },
          "metadata": {
            "tags": []
          },
          "execution_count": 26
        }
      ]
    },
    {
      "cell_type": "code",
      "metadata": {
        "colab": {
          "base_uri": "https://localhost:8080/"
        },
        "id": "Dn0C7N4hJurh",
        "outputId": "8726a4f4-5ea4-460c-8e05-e474927f17eb"
      },
      "source": [
        "df.groupby('District')['SimulationExercise'].std()"
      ],
      "execution_count": null,
      "outputs": [
        {
          "output_type": "execute_result",
          "data": {
            "text/plain": [
              "District\n",
              "Bagerhat      0.488451\n",
              "Khulna        0.155207\n",
              "Patuakhali    0.282749\n",
              "Name: SimulationExercise, dtype: float64"
            ]
          },
          "metadata": {
            "tags": []
          },
          "execution_count": 27
        }
      ]
    },
    {
      "cell_type": "markdown",
      "metadata": {
        "id": "JukubRQVKP_D"
      },
      "source": [
        "Male-Female"
      ]
    },
    {
      "cell_type": "code",
      "metadata": {
        "colab": {
          "base_uri": "https://localhost:8080/",
          "height": 141
        },
        "id": "sA6TnmwmL8p3",
        "outputId": "a04cc281-5a86-441e-be90-8b2f04dd30ae"
      },
      "source": [
        "pd.crosstab(df['Gender'],df['PrticipatedPrepPlan']).apply(lambda r: r/r.sum(), axis=1)*100"
      ],
      "execution_count": null,
      "outputs": [
        {
          "output_type": "execute_result",
          "data": {
            "text/html": [
              "<div>\n",
              "<style scoped>\n",
              "    .dataframe tbody tr th:only-of-type {\n",
              "        vertical-align: middle;\n",
              "    }\n",
              "\n",
              "    .dataframe tbody tr th {\n",
              "        vertical-align: top;\n",
              "    }\n",
              "\n",
              "    .dataframe thead th {\n",
              "        text-align: right;\n",
              "    }\n",
              "</style>\n",
              "<table border=\"1\" class=\"dataframe\">\n",
              "  <thead>\n",
              "    <tr style=\"text-align: right;\">\n",
              "      <th>FirstAidHome</th>\n",
              "      <th>0</th>\n",
              "      <th>1</th>\n",
              "    </tr>\n",
              "    <tr>\n",
              "      <th>Gender</th>\n",
              "      <th></th>\n",
              "      <th></th>\n",
              "    </tr>\n",
              "  </thead>\n",
              "  <tbody>\n",
              "    <tr>\n",
              "      <th>Female</th>\n",
              "      <td>94.881890</td>\n",
              "      <td>5.118110</td>\n",
              "    </tr>\n",
              "    <tr>\n",
              "      <th>Male</th>\n",
              "      <td>90.434783</td>\n",
              "      <td>9.565217</td>\n",
              "    </tr>\n",
              "  </tbody>\n",
              "</table>\n",
              "</div>"
            ],
            "text/plain": [
              "FirstAidHome          0         1\n",
              "Gender                           \n",
              "Female        94.881890  5.118110\n",
              "Male          90.434783  9.565217"
            ]
          },
          "metadata": {
            "tags": []
          },
          "execution_count": 52
        }
      ]
    },
    {
      "cell_type": "code",
      "metadata": {
        "colab": {
          "base_uri": "https://localhost:8080/",
          "height": 141
        },
        "id": "6koeXe-LN042",
        "outputId": "2424a827-7f43-4fef-8c43-11f92c75d14a"
      },
      "source": [
        "pd.crosstab(df['Gender'],df['ContributeFund']).apply(lambda r: r/r.sum(), axis=1)*100"
      ],
      "execution_count": null,
      "outputs": [
        {
          "output_type": "execute_result",
          "data": {
            "text/html": [
              "<div>\n",
              "<style scoped>\n",
              "    .dataframe tbody tr th:only-of-type {\n",
              "        vertical-align: middle;\n",
              "    }\n",
              "\n",
              "    .dataframe tbody tr th {\n",
              "        vertical-align: top;\n",
              "    }\n",
              "\n",
              "    .dataframe thead th {\n",
              "        text-align: right;\n",
              "    }\n",
              "</style>\n",
              "<table border=\"1\" class=\"dataframe\">\n",
              "  <thead>\n",
              "    <tr style=\"text-align: right;\">\n",
              "      <th>ContributeFund</th>\n",
              "      <th>0</th>\n",
              "      <th>1</th>\n",
              "    </tr>\n",
              "    <tr>\n",
              "      <th>Gender</th>\n",
              "      <th></th>\n",
              "      <th></th>\n",
              "    </tr>\n",
              "  </thead>\n",
              "  <tbody>\n",
              "    <tr>\n",
              "      <th>Female</th>\n",
              "      <td>99.606299</td>\n",
              "      <td>0.393701</td>\n",
              "    </tr>\n",
              "    <tr>\n",
              "      <th>Male</th>\n",
              "      <td>100.000000</td>\n",
              "      <td>0.000000</td>\n",
              "    </tr>\n",
              "  </tbody>\n",
              "</table>\n",
              "</div>"
            ],
            "text/plain": [
              "ContributeFund           0         1\n",
              "Gender                              \n",
              "Female           99.606299  0.393701\n",
              "Male            100.000000  0.000000"
            ]
          },
          "metadata": {
            "tags": []
          },
          "execution_count": 53
        }
      ]
    },
    {
      "cell_type": "code",
      "metadata": {
        "colab": {
          "base_uri": "https://localhost:8080/",
          "height": 141
        },
        "id": "_hwRNt97OUSh",
        "outputId": "380dd362-720f-4f8e-cd3e-38dd0312fb86"
      },
      "source": [
        "pd.crosstab(df['Gender'],df['PreparednessPlan']).apply(lambda r: r/r.sum(), axis=1)*100"
      ],
      "execution_count": null,
      "outputs": [
        {
          "output_type": "execute_result",
          "data": {
            "text/html": [
              "<div>\n",
              "<style scoped>\n",
              "    .dataframe tbody tr th:only-of-type {\n",
              "        vertical-align: middle;\n",
              "    }\n",
              "\n",
              "    .dataframe tbody tr th {\n",
              "        vertical-align: top;\n",
              "    }\n",
              "\n",
              "    .dataframe thead th {\n",
              "        text-align: right;\n",
              "    }\n",
              "</style>\n",
              "<table border=\"1\" class=\"dataframe\">\n",
              "  <thead>\n",
              "    <tr style=\"text-align: right;\">\n",
              "      <th>PreparednessPlan</th>\n",
              "      <th>0.0</th>\n",
              "      <th>1.0</th>\n",
              "    </tr>\n",
              "    <tr>\n",
              "      <th>Gender</th>\n",
              "      <th></th>\n",
              "      <th></th>\n",
              "    </tr>\n",
              "  </thead>\n",
              "  <tbody>\n",
              "    <tr>\n",
              "      <th>Female</th>\n",
              "      <td>91.338583</td>\n",
              "      <td>8.661417</td>\n",
              "    </tr>\n",
              "    <tr>\n",
              "      <th>Male</th>\n",
              "      <td>87.391304</td>\n",
              "      <td>12.608696</td>\n",
              "    </tr>\n",
              "  </tbody>\n",
              "</table>\n",
              "</div>"
            ],
            "text/plain": [
              "PreparednessPlan        0.0        1.0\n",
              "Gender                                \n",
              "Female            91.338583   8.661417\n",
              "Male              87.391304  12.608696"
            ]
          },
          "metadata": {
            "tags": []
          },
          "execution_count": 54
        }
      ]
    },
    {
      "cell_type": "code",
      "metadata": {
        "colab": {
          "base_uri": "https://localhost:8080/",
          "height": 141
        },
        "id": "r28jFhT-OUya",
        "outputId": "cfc275dd-f718-447a-8780-1f3c582110fe"
      },
      "source": [
        "pd.crosstab(df['Gender'],df['GrabBag']).apply(lambda r: r/r.sum(), axis=1)*100"
      ],
      "execution_count": null,
      "outputs": [
        {
          "output_type": "execute_result",
          "data": {
            "text/html": [
              "<div>\n",
              "<style scoped>\n",
              "    .dataframe tbody tr th:only-of-type {\n",
              "        vertical-align: middle;\n",
              "    }\n",
              "\n",
              "    .dataframe tbody tr th {\n",
              "        vertical-align: top;\n",
              "    }\n",
              "\n",
              "    .dataframe thead th {\n",
              "        text-align: right;\n",
              "    }\n",
              "</style>\n",
              "<table border=\"1\" class=\"dataframe\">\n",
              "  <thead>\n",
              "    <tr style=\"text-align: right;\">\n",
              "      <th>GrabBag</th>\n",
              "      <th>0.0</th>\n",
              "      <th>1.0</th>\n",
              "    </tr>\n",
              "    <tr>\n",
              "      <th>Gender</th>\n",
              "      <th></th>\n",
              "      <th></th>\n",
              "    </tr>\n",
              "  </thead>\n",
              "  <tbody>\n",
              "    <tr>\n",
              "      <th>Female</th>\n",
              "      <td>71.259843</td>\n",
              "      <td>28.740157</td>\n",
              "    </tr>\n",
              "    <tr>\n",
              "      <th>Male</th>\n",
              "      <td>58.695652</td>\n",
              "      <td>41.304348</td>\n",
              "    </tr>\n",
              "  </tbody>\n",
              "</table>\n",
              "</div>"
            ],
            "text/plain": [
              "GrabBag        0.0        1.0\n",
              "Gender                       \n",
              "Female   71.259843  28.740157\n",
              "Male     58.695652  41.304348"
            ]
          },
          "metadata": {
            "tags": []
          },
          "execution_count": 55
        }
      ]
    },
    {
      "cell_type": "code",
      "metadata": {
        "colab": {
          "base_uri": "https://localhost:8080/",
          "height": 141
        },
        "id": "3_YB4OANOVaO",
        "outputId": "b289a4ba-e23b-416f-f415-83b433f609c4"
      },
      "source": [
        "pd.crosstab(df['Gender'],df['ExtraMoney']).apply(lambda r: r/r.sum(), axis=1)*100"
      ],
      "execution_count": null,
      "outputs": [
        {
          "output_type": "execute_result",
          "data": {
            "text/html": [
              "<div>\n",
              "<style scoped>\n",
              "    .dataframe tbody tr th:only-of-type {\n",
              "        vertical-align: middle;\n",
              "    }\n",
              "\n",
              "    .dataframe tbody tr th {\n",
              "        vertical-align: top;\n",
              "    }\n",
              "\n",
              "    .dataframe thead th {\n",
              "        text-align: right;\n",
              "    }\n",
              "</style>\n",
              "<table border=\"1\" class=\"dataframe\">\n",
              "  <thead>\n",
              "    <tr style=\"text-align: right;\">\n",
              "      <th>ExtraMoney</th>\n",
              "      <th>0.0</th>\n",
              "      <th>1.0</th>\n",
              "    </tr>\n",
              "    <tr>\n",
              "      <th>Gender</th>\n",
              "      <th></th>\n",
              "      <th></th>\n",
              "    </tr>\n",
              "  </thead>\n",
              "  <tbody>\n",
              "    <tr>\n",
              "      <th>Female</th>\n",
              "      <td>94.094488</td>\n",
              "      <td>5.905512</td>\n",
              "    </tr>\n",
              "    <tr>\n",
              "      <th>Male</th>\n",
              "      <td>88.646288</td>\n",
              "      <td>11.353712</td>\n",
              "    </tr>\n",
              "  </tbody>\n",
              "</table>\n",
              "</div>"
            ],
            "text/plain": [
              "ExtraMoney        0.0        1.0\n",
              "Gender                          \n",
              "Female      94.094488   5.905512\n",
              "Male        88.646288  11.353712"
            ]
          },
          "metadata": {
            "tags": []
          },
          "execution_count": 56
        }
      ]
    },
    {
      "cell_type": "code",
      "metadata": {
        "colab": {
          "base_uri": "https://localhost:8080/",
          "height": 141
        },
        "id": "g7nYnjXzOV1Z",
        "outputId": "c291a3df-1ab3-41d4-a12e-b56e4bfc0231"
      },
      "source": [
        "pd.crosstab(df['Gender'],df['PrticipatedPrepPlan']).apply(lambda r: r/r.sum(), axis=1)*100"
      ],
      "execution_count": null,
      "outputs": [
        {
          "output_type": "execute_result",
          "data": {
            "text/html": [
              "<div>\n",
              "<style scoped>\n",
              "    .dataframe tbody tr th:only-of-type {\n",
              "        vertical-align: middle;\n",
              "    }\n",
              "\n",
              "    .dataframe tbody tr th {\n",
              "        vertical-align: top;\n",
              "    }\n",
              "\n",
              "    .dataframe thead th {\n",
              "        text-align: right;\n",
              "    }\n",
              "</style>\n",
              "<table border=\"1\" class=\"dataframe\">\n",
              "  <thead>\n",
              "    <tr style=\"text-align: right;\">\n",
              "      <th>PrticipatedPrepPlan</th>\n",
              "      <th>0</th>\n",
              "      <th>1</th>\n",
              "    </tr>\n",
              "    <tr>\n",
              "      <th>Gender</th>\n",
              "      <th></th>\n",
              "      <th></th>\n",
              "    </tr>\n",
              "  </thead>\n",
              "  <tbody>\n",
              "    <tr>\n",
              "      <th>Female</th>\n",
              "      <td>94.488189</td>\n",
              "      <td>5.511811</td>\n",
              "    </tr>\n",
              "    <tr>\n",
              "      <th>Male</th>\n",
              "      <td>92.608696</td>\n",
              "      <td>7.391304</td>\n",
              "    </tr>\n",
              "  </tbody>\n",
              "</table>\n",
              "</div>"
            ],
            "text/plain": [
              "PrticipatedPrepPlan          0         1\n",
              "Gender                                  \n",
              "Female               94.488189  5.511811\n",
              "Male                 92.608696  7.391304"
            ]
          },
          "metadata": {
            "tags": []
          },
          "execution_count": 65
        }
      ]
    },
    {
      "cell_type": "code",
      "metadata": {
        "colab": {
          "base_uri": "https://localhost:8080/",
          "height": 141
        },
        "id": "WdbK98U_OWVJ",
        "outputId": "751b868a-c71c-46ac-9ab4-1b446914a505"
      },
      "source": [
        "pd.crosstab(df['Gender'],df['SimulationExercise']).apply(lambda r: r/r.sum(), axis=1)*100"
      ],
      "execution_count": null,
      "outputs": [
        {
          "output_type": "execute_result",
          "data": {
            "text/html": [
              "<div>\n",
              "<style scoped>\n",
              "    .dataframe tbody tr th:only-of-type {\n",
              "        vertical-align: middle;\n",
              "    }\n",
              "\n",
              "    .dataframe tbody tr th {\n",
              "        vertical-align: top;\n",
              "    }\n",
              "\n",
              "    .dataframe thead th {\n",
              "        text-align: right;\n",
              "    }\n",
              "</style>\n",
              "<table border=\"1\" class=\"dataframe\">\n",
              "  <thead>\n",
              "    <tr style=\"text-align: right;\">\n",
              "      <th>SimulationExercise</th>\n",
              "      <th>0</th>\n",
              "      <th>1</th>\n",
              "    </tr>\n",
              "    <tr>\n",
              "      <th>Gender</th>\n",
              "      <th></th>\n",
              "      <th></th>\n",
              "    </tr>\n",
              "  </thead>\n",
              "  <tbody>\n",
              "    <tr>\n",
              "      <th>Female</th>\n",
              "      <td>85.433071</td>\n",
              "      <td>14.566929</td>\n",
              "    </tr>\n",
              "    <tr>\n",
              "      <th>Male</th>\n",
              "      <td>82.608696</td>\n",
              "      <td>17.391304</td>\n",
              "    </tr>\n",
              "  </tbody>\n",
              "</table>\n",
              "</div>"
            ],
            "text/plain": [
              "SimulationExercise          0          1\n",
              "Gender                                  \n",
              "Female              85.433071  14.566929\n",
              "Male                82.608696  17.391304"
            ]
          },
          "metadata": {
            "tags": []
          },
          "execution_count": 64
        }
      ]
    },
    {
      "cell_type": "code",
      "metadata": {
        "id": "7mgGP7bTPI5v"
      },
      "source": [
        ""
      ],
      "execution_count": null,
      "outputs": []
    }
  ]
}