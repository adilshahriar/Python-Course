{
  "nbformat": 4,
  "nbformat_minor": 0,
  "metadata": {
    "colab": {
      "name": "Hypothesis.ipynb",
      "provenance": []
    },
    "kernelspec": {
      "name": "python3",
      "display_name": "Python 3"
    },
    "language_info": {
      "name": "python"
    }
  },
  "cells": [
    {
      "cell_type": "markdown",
      "metadata": {
        "id": "zM6814zkQzl9"
      },
      "source": [
        "https://machinelearningmastery.com/statistical-hypothesis-tests-in-python-cheat-sheet/"
      ]
    },
    {
      "cell_type": "code",
      "metadata": {
        "id": "bwQXupF8E4nj"
      },
      "source": [
        "import matplotlib.pyplot as plt\n",
        "import matplotlib.mlab as mlab\n",
        "import seaborn as sns\n",
        "import pandas as pd\n",
        "import numpy as np"
      ],
      "execution_count": 1,
      "outputs": []
    },
    {
      "cell_type": "code",
      "metadata": {
        "colab": {
          "base_uri": "https://localhost:8080/",
          "height": 206
        },
        "id": "saydtM5sE7zv",
        "outputId": "97bd8334-89c7-4269-fbba-303aa757c67e"
      },
      "source": [
        "url='https://raw.githubusercontent.com/FazlyRabbiBD/Data-Science-Book/master/data-diabetes.csv'\n",
        "df = pd.read_csv(url)\n",
        "df.head()"
      ],
      "execution_count": 2,
      "outputs": [
        {
          "output_type": "execute_result",
          "data": {
            "text/html": [
              "<div>\n",
              "<style scoped>\n",
              "    .dataframe tbody tr th:only-of-type {\n",
              "        vertical-align: middle;\n",
              "    }\n",
              "\n",
              "    .dataframe tbody tr th {\n",
              "        vertical-align: top;\n",
              "    }\n",
              "\n",
              "    .dataframe thead th {\n",
              "        text-align: right;\n",
              "    }\n",
              "</style>\n",
              "<table border=\"1\" class=\"dataframe\">\n",
              "  <thead>\n",
              "    <tr style=\"text-align: right;\">\n",
              "      <th></th>\n",
              "      <th>glucose</th>\n",
              "      <th>bloodpressure</th>\n",
              "      <th>diabetes</th>\n",
              "    </tr>\n",
              "  </thead>\n",
              "  <tbody>\n",
              "    <tr>\n",
              "      <th>0</th>\n",
              "      <td>40</td>\n",
              "      <td>85</td>\n",
              "      <td>0</td>\n",
              "    </tr>\n",
              "    <tr>\n",
              "      <th>1</th>\n",
              "      <td>40</td>\n",
              "      <td>92</td>\n",
              "      <td>0</td>\n",
              "    </tr>\n",
              "    <tr>\n",
              "      <th>2</th>\n",
              "      <td>45</td>\n",
              "      <td>63</td>\n",
              "      <td>1</td>\n",
              "    </tr>\n",
              "    <tr>\n",
              "      <th>3</th>\n",
              "      <td>45</td>\n",
              "      <td>80</td>\n",
              "      <td>0</td>\n",
              "    </tr>\n",
              "    <tr>\n",
              "      <th>4</th>\n",
              "      <td>40</td>\n",
              "      <td>73</td>\n",
              "      <td>1</td>\n",
              "    </tr>\n",
              "  </tbody>\n",
              "</table>\n",
              "</div>"
            ],
            "text/plain": [
              "   glucose  bloodpressure  diabetes\n",
              "0       40             85         0\n",
              "1       40             92         0\n",
              "2       45             63         1\n",
              "3       45             80         0\n",
              "4       40             73         1"
            ]
          },
          "metadata": {
            "tags": []
          },
          "execution_count": 2
        }
      ]
    },
    {
      "cell_type": "markdown",
      "metadata": {
        "id": "g9WIgNChFKO_"
      },
      "source": [
        "# **Normality Test**"
      ]
    },
    {
      "cell_type": "markdown",
      "metadata": {
        "id": "b2-3cVF0rsJd"
      },
      "source": [
        "Assumption: \n",
        "* Observations in each sample are independent and identically distributed (iid).\n",
        "\n",
        "Hypothesis:\n",
        "\n",
        "* H0 = Normal Distribution\n",
        "\n",
        "* H1= Not a Normal Distribution\n",
        "\n",
        "Rules:\n",
        "if p < 0.05: Reject the H0"
      ]
    },
    {
      "cell_type": "markdown",
      "metadata": {
        "id": "UvkpKXtXIwJY"
      },
      "source": [
        "**Shapiro-Wilk Test**"
      ]
    },
    {
      "cell_type": "code",
      "metadata": {
        "colab": {
          "base_uri": "https://localhost:8080/"
        },
        "id": "p49X4TM5FHkP",
        "outputId": "cf33738b-a186-484b-d8d8-81e1338f92b6"
      },
      "source": [
        "#Help from Python\n",
        "from scipy.stats import shapiro\n",
        "\n",
        "DataToTest = df['bloodpressure']\n",
        "stat, p = shapiro(DataToTest)\n",
        "print('stat=%.6f, p=%.6f' % (stat, p))\n",
        "if p < 0.05:\n",
        "    print('Not a normal distribution/ H0 Rejected')   \n",
        "else:\n",
        "    print('Normal distribution/ H0 Accepted')"
      ],
      "execution_count": 3,
      "outputs": [
        {
          "output_type": "stream",
          "text": [
            "stat=0.970822, p=0.000000\n",
            "Not a normal distribution/ H0 Rejected\n"
          ],
          "name": "stdout"
        }
      ]
    },
    {
      "cell_type": "markdown",
      "metadata": {
        "id": "s0p96sB4I1y_"
      },
      "source": [
        "**D'Agostino's K^2 Normality Test**"
      ]
    },
    {
      "cell_type": "code",
      "metadata": {
        "colab": {
          "base_uri": "https://localhost:8080/"
        },
        "id": "CngduLFGGIpb",
        "outputId": "37ff0e12-3313-4d72-d843-26d07847a6b0"
      },
      "source": [
        "# Example of the D'Agostino's K^2 Normality Test\n",
        "from scipy.stats import normaltest\n",
        "DataToTest = df['bloodpressure']\n",
        "\n",
        "stat, p = normaltest(DataToTest)\n",
        "print('stat=%.6f, p=%.6f' % (stat, p))\n",
        "if p < 0.05:\n",
        "    print('Not a normal distribution/ H0 Rejected')   \n",
        "else:\n",
        "    print('Normal distribution/ H0 Accepted')"
      ],
      "execution_count": 4,
      "outputs": [
        {
          "output_type": "stream",
          "text": [
            "stat=101.061591, p=0.000000\n",
            "Not a normal distribution/ H0 Rejected\n"
          ],
          "name": "stdout"
        }
      ]
    },
    {
      "cell_type": "markdown",
      "metadata": {
        "id": "o7bUaAchLp3I"
      },
      "source": [
        "**Anderson-Darling Normality Test**"
      ]
    },
    {
      "cell_type": "code",
      "metadata": {
        "colab": {
          "base_uri": "https://localhost:8080/"
        },
        "id": "yKId5b__LnGY",
        "outputId": "d1698a6a-f0ab-4d5e-e9f6-eae2d7cf7ffe"
      },
      "source": [
        "# Example of the Anderson-Darling Normality Test\n",
        "from scipy.stats import anderson\n",
        "result = anderson(df['glucose'])\n",
        "print('stat=%.6f, p=%.6f' % (stat, p))\n",
        "if p < 0.05:\n",
        "    print('Not a normal distribution/ H0 Rejected')   \n",
        "else:\n",
        "    print('Normal distribution/ H0 Accepted')"
      ],
      "execution_count": 5,
      "outputs": [
        {
          "output_type": "stream",
          "text": [
            "stat=101.061591, p=0.000000\n",
            "Not a normal distribution/ H0 Rejected\n"
          ],
          "name": "stdout"
        }
      ]
    },
    {
      "cell_type": "markdown",
      "metadata": {
        "id": "F7SJZJYeJFnn"
      },
      "source": [
        "# **Correlation Test**"
      ]
    },
    {
      "cell_type": "markdown",
      "metadata": {
        "id": "XCD9lbO-L8si"
      },
      "source": [
        "Assumptions\n",
        "\n",
        " \n",
        "\n",
        "*   Observations in each sample are independent and identically distributed (iid)\n",
        "*   Observations in each sample are normally distributed\n",
        "* Observations in each sample have the same variance.\n",
        "\n",
        "Hypothesis:\n",
        "\n",
        "* H0: Variables are Independent / Not correlated\n",
        "\n",
        "* H1: Variables are Dependent / Correlated\n",
        "\n",
        "Rules: if p < 0.05: Reject the H0"
      ]
    },
    {
      "cell_type": "code",
      "metadata": {
        "colab": {
          "base_uri": "https://localhost:8080/",
          "height": 143
        },
        "id": "DpJrFA82OfXB",
        "outputId": "63a3adee-77e1-48d9-b676-f3345081b095"
      },
      "source": [
        "df.corr()"
      ],
      "execution_count": 6,
      "outputs": [
        {
          "output_type": "execute_result",
          "data": {
            "text/html": [
              "<div>\n",
              "<style scoped>\n",
              "    .dataframe tbody tr th:only-of-type {\n",
              "        vertical-align: middle;\n",
              "    }\n",
              "\n",
              "    .dataframe tbody tr th {\n",
              "        vertical-align: top;\n",
              "    }\n",
              "\n",
              "    .dataframe thead th {\n",
              "        text-align: right;\n",
              "    }\n",
              "</style>\n",
              "<table border=\"1\" class=\"dataframe\">\n",
              "  <thead>\n",
              "    <tr style=\"text-align: right;\">\n",
              "      <th></th>\n",
              "      <th>glucose</th>\n",
              "      <th>bloodpressure</th>\n",
              "      <th>diabetes</th>\n",
              "    </tr>\n",
              "  </thead>\n",
              "  <tbody>\n",
              "    <tr>\n",
              "      <th>glucose</th>\n",
              "      <td>1.000000</td>\n",
              "      <td>-0.164553</td>\n",
              "      <td>0.031585</td>\n",
              "    </tr>\n",
              "    <tr>\n",
              "      <th>bloodpressure</th>\n",
              "      <td>-0.164553</td>\n",
              "      <td>1.000000</td>\n",
              "      <td>-0.808303</td>\n",
              "    </tr>\n",
              "    <tr>\n",
              "      <th>diabetes</th>\n",
              "      <td>0.031585</td>\n",
              "      <td>-0.808303</td>\n",
              "      <td>1.000000</td>\n",
              "    </tr>\n",
              "  </tbody>\n",
              "</table>\n",
              "</div>"
            ],
            "text/plain": [
              "                glucose  bloodpressure  diabetes\n",
              "glucose        1.000000      -0.164553  0.031585\n",
              "bloodpressure -0.164553       1.000000 -0.808303\n",
              "diabetes       0.031585      -0.808303  1.000000"
            ]
          },
          "metadata": {
            "tags": []
          },
          "execution_count": 6
        }
      ]
    },
    {
      "cell_type": "markdown",
      "metadata": {
        "id": "MFmC9cR0MMAo"
      },
      "source": [
        "**Pearson correlation**"
      ]
    },
    {
      "cell_type": "code",
      "metadata": {
        "colab": {
          "base_uri": "https://localhost:8080/"
        },
        "id": "WUyqo3WZMIuq",
        "outputId": "54918e65-097e-4649-a981-e58096916097"
      },
      "source": [
        "#pearson correlation\n",
        "from scipy.stats import pearsonr\n",
        "stat, p = pearsonr(df.bloodpressure, df.glucose)\n",
        "\n",
        "print('stat=%.6f, p=%9f' % (stat, p))\n",
        "\n",
        "if p < 0.05:\n",
        "    print('Variables are Dependent (Correlated)/ H0 Rejected')    \n",
        "else:\n",
        "    print('Variables are Independent (Not Correlated)/ H0 Accepted')"
      ],
      "execution_count": 10,
      "outputs": [
        {
          "output_type": "stream",
          "text": [
            "stat=-0.164553, p= 0.000000\n",
            "Variables are Dependent (Correlated)/ H0 Rejected\n"
          ],
          "name": "stdout"
        }
      ]
    },
    {
      "cell_type": "markdown",
      "metadata": {
        "id": "E-Yk9gIiMBNh"
      },
      "source": [
        "**Spearman Rank Correlation**"
      ]
    },
    {
      "cell_type": "markdown",
      "metadata": {
        "id": "VjyxvzLv2eVm"
      },
      "source": [
        "Assumptions:\n",
        "\n",
        "* Observations in each sample are independent and identically distributed (iid).\n",
        "* Observations in each sample can be ranked."
      ]
    },
    {
      "cell_type": "code",
      "metadata": {
        "colab": {
          "base_uri": "https://localhost:8080/"
        },
        "id": "_HiGsSv-JK8n",
        "outputId": "c4a46024-d4d8-4fd2-e452-fc62dc56cb70"
      },
      "source": [
        "#Spearman Rank Correlation\n",
        "from scipy.stats import spearmanr\n",
        "stat, p = spearmanr(df.bloodpressure, df.glucose)\n",
        "\n",
        "print('stat=%.6f, p=%6f' % (stat, p))\n",
        "if p < 0.05:\n",
        "    print('Variables are Dependent (Correlated)/ H0 Rejected')    \n",
        "else:\n",
        "    print('Variables are Independent (Not Correlated)/ H0 Accepted')"
      ],
      "execution_count": 11,
      "outputs": [
        {
          "output_type": "stream",
          "text": [
            "stat=-0.130079, p=0.000039\n",
            "Variables are Dependent (Correlated)/ H0 Rejected\n"
          ],
          "name": "stdout"
        }
      ]
    },
    {
      "cell_type": "markdown",
      "metadata": {
        "id": "RopoxytLPWGZ"
      },
      "source": [
        "**Kendall's Rank Correlation Test**"
      ]
    },
    {
      "cell_type": "code",
      "metadata": {
        "colab": {
          "base_uri": "https://localhost:8080/"
        },
        "id": "LfybKbHBPQYJ",
        "outputId": "a64c4152-ffc6-48c1-988e-94027fc6503c"
      },
      "source": [
        "# Example of the Kendall's Rank Correlation Test\n",
        "from scipy.stats import kendalltau\n",
        "stat, p = kendalltau(df.bloodpressure, df.glucose)\n",
        "\n",
        "print('stat=%.6f, p=%6f' % (stat, p))\n",
        "if p < 0.05:\n",
        "    print('Variables are Dependent (Correlated)/ H0 Rejected')    \n",
        "else:\n",
        "    print('Variables are Independent (Not Correlated)/ H0 Accepted')"
      ],
      "execution_count": 12,
      "outputs": [
        {
          "output_type": "stream",
          "text": [
            "stat=-0.096423, p=0.000058\n",
            "Variables are Dependent (Correlated)/ H0 Rejected\n"
          ],
          "name": "stdout"
        }
      ]
    },
    {
      "cell_type": "markdown",
      "metadata": {
        "id": "uleQCHTmQccp"
      },
      "source": [
        "# **Categorical Relationship: Chi square test**"
      ]
    },
    {
      "cell_type": "markdown",
      "metadata": {
        "id": "m1PG5GdX2Dlu"
      },
      "source": [
        "Assumptions:\n",
        "\n",
        "* Observations used in the calculation of the contingency table are independent.\n",
        "* 25 or more examples in each cell of the contingency table.\n",
        "\n",
        "Hypothesis:\n",
        "\n",
        "* H0: Variables are Independent / Not correlated\n",
        "\n",
        "* H1: Variables are Dependent / Correlated"
      ]
    },
    {
      "cell_type": "code",
      "metadata": {
        "colab": {
          "base_uri": "https://localhost:8080/",
          "height": 206
        },
        "id": "rVQYd4WrO79W",
        "outputId": "2015ba1c-6b96-4f78-a3e8-47312f766253"
      },
      "source": [
        "url='https://raw.githubusercontent.com/FazlyRabbiBD/Data-Science-Book/master/data-drugs.csv'\n",
        "df1 = pd.read_csv(url)\n",
        "df1.head()"
      ],
      "execution_count": 13,
      "outputs": [
        {
          "output_type": "execute_result",
          "data": {
            "text/html": [
              "<div>\n",
              "<style scoped>\n",
              "    .dataframe tbody tr th:only-of-type {\n",
              "        vertical-align: middle;\n",
              "    }\n",
              "\n",
              "    .dataframe tbody tr th {\n",
              "        vertical-align: top;\n",
              "    }\n",
              "\n",
              "    .dataframe thead th {\n",
              "        text-align: right;\n",
              "    }\n",
              "</style>\n",
              "<table border=\"1\" class=\"dataframe\">\n",
              "  <thead>\n",
              "    <tr style=\"text-align: right;\">\n",
              "      <th></th>\n",
              "      <th>Age</th>\n",
              "      <th>Sex</th>\n",
              "      <th>BP</th>\n",
              "      <th>Cholesterol</th>\n",
              "      <th>Na_to_K</th>\n",
              "      <th>Drug</th>\n",
              "    </tr>\n",
              "  </thead>\n",
              "  <tbody>\n",
              "    <tr>\n",
              "      <th>0</th>\n",
              "      <td>23</td>\n",
              "      <td>F</td>\n",
              "      <td>HIGH</td>\n",
              "      <td>HIGH</td>\n",
              "      <td>25.355</td>\n",
              "      <td>drugY</td>\n",
              "    </tr>\n",
              "    <tr>\n",
              "      <th>1</th>\n",
              "      <td>47</td>\n",
              "      <td>M</td>\n",
              "      <td>LOW</td>\n",
              "      <td>HIGH</td>\n",
              "      <td>13.093</td>\n",
              "      <td>drugC</td>\n",
              "    </tr>\n",
              "    <tr>\n",
              "      <th>2</th>\n",
              "      <td>47</td>\n",
              "      <td>M</td>\n",
              "      <td>LOW</td>\n",
              "      <td>HIGH</td>\n",
              "      <td>10.114</td>\n",
              "      <td>drugC</td>\n",
              "    </tr>\n",
              "    <tr>\n",
              "      <th>3</th>\n",
              "      <td>28</td>\n",
              "      <td>F</td>\n",
              "      <td>NORMAL</td>\n",
              "      <td>HIGH</td>\n",
              "      <td>7.798</td>\n",
              "      <td>drugX</td>\n",
              "    </tr>\n",
              "    <tr>\n",
              "      <th>4</th>\n",
              "      <td>61</td>\n",
              "      <td>F</td>\n",
              "      <td>LOW</td>\n",
              "      <td>HIGH</td>\n",
              "      <td>18.043</td>\n",
              "      <td>drugY</td>\n",
              "    </tr>\n",
              "  </tbody>\n",
              "</table>\n",
              "</div>"
            ],
            "text/plain": [
              "   Age Sex      BP Cholesterol  Na_to_K   Drug\n",
              "0   23   F    HIGH        HIGH   25.355  drugY\n",
              "1   47   M     LOW        HIGH   13.093  drugC\n",
              "2   47   M     LOW        HIGH   10.114  drugC\n",
              "3   28   F  NORMAL        HIGH    7.798  drugX\n",
              "4   61   F     LOW        HIGH   18.043  drugY"
            ]
          },
          "metadata": {
            "tags": []
          },
          "execution_count": 13
        }
      ]
    },
    {
      "cell_type": "code",
      "metadata": {
        "colab": {
          "base_uri": "https://localhost:8080/",
          "height": 143
        },
        "id": "2NFASY5fP4gx",
        "outputId": "e0d4e296-ebff-4129-841d-065b114980f4"
      },
      "source": [
        "contingency_data = pd.crosstab(df1['Sex'], df1['BP'])\n",
        "contingency_data "
      ],
      "execution_count": 15,
      "outputs": [
        {
          "output_type": "execute_result",
          "data": {
            "text/html": [
              "<div>\n",
              "<style scoped>\n",
              "    .dataframe tbody tr th:only-of-type {\n",
              "        vertical-align: middle;\n",
              "    }\n",
              "\n",
              "    .dataframe tbody tr th {\n",
              "        vertical-align: top;\n",
              "    }\n",
              "\n",
              "    .dataframe thead th {\n",
              "        text-align: right;\n",
              "    }\n",
              "</style>\n",
              "<table border=\"1\" class=\"dataframe\">\n",
              "  <thead>\n",
              "    <tr style=\"text-align: right;\">\n",
              "      <th>BP</th>\n",
              "      <th>HIGH</th>\n",
              "      <th>LOW</th>\n",
              "      <th>NORMAL</th>\n",
              "    </tr>\n",
              "    <tr>\n",
              "      <th>Sex</th>\n",
              "      <th></th>\n",
              "      <th></th>\n",
              "      <th></th>\n",
              "    </tr>\n",
              "  </thead>\n",
              "  <tbody>\n",
              "    <tr>\n",
              "      <th>F</th>\n",
              "      <td>38</td>\n",
              "      <td>28</td>\n",
              "      <td>30</td>\n",
              "    </tr>\n",
              "    <tr>\n",
              "      <th>M</th>\n",
              "      <td>39</td>\n",
              "      <td>36</td>\n",
              "      <td>29</td>\n",
              "    </tr>\n",
              "  </tbody>\n",
              "</table>\n",
              "</div>"
            ],
            "text/plain": [
              "BP   HIGH  LOW  NORMAL\n",
              "Sex                   \n",
              "F      38   28      30\n",
              "M      39   36      29"
            ]
          },
          "metadata": {
            "tags": []
          },
          "execution_count": 15
        }
      ]
    },
    {
      "cell_type": "code",
      "metadata": {
        "colab": {
          "base_uri": "https://localhost:8080/"
        },
        "id": "0Z0kSmzTPmXp",
        "outputId": "dfb8b11d-f69b-45fa-985f-1d79d63352b4"
      },
      "source": [
        "from scipy.stats import chi2_contingency\n",
        "table = df1[[\"Sex\",\"BP\"]]\n",
        "stat, p, dof, expected = chi2_contingency(contingency_data)\n",
        "print('stat=%.3f, p=%.3f' % (stat, p))\n",
        "if p < 0.05:\n",
        "    print('Variables are Dependent / H0 Rejected')    \n",
        "else:\n",
        "    print('Variables are Independent / H0 Accepted')"
      ],
      "execution_count": 16,
      "outputs": [
        {
          "output_type": "stream",
          "text": [
            "stat=0.711, p=0.701\n",
            "Variables are Independent / H0 Accepted\n"
          ],
          "name": "stdout"
        }
      ]
    },
    {
      "cell_type": "markdown",
      "metadata": {
        "id": "gwINlcdHNGF5"
      },
      "source": [
        "#**Parametric: Z-Test**"
      ]
    },
    {
      "cell_type": "markdown",
      "metadata": {
        "id": "56D0nmKpe3oj"
      },
      "source": [
        "https://inblog.in/Hypothesis-Testing-using-Python-RqrE4uDqMe"
      ]
    },
    {
      "cell_type": "code",
      "metadata": {
        "id": "lJIasWP8eL9k"
      },
      "source": [
        "import pandas as pd\n",
        "from scipy import stats\n",
        "df2=pd.read_csv('https://raw.githubusercontent.com/jeevanhe/Data-Science-Statistical-Methods/master/systolic%20blood%20pressure.csv')"
      ],
      "execution_count": 23,
      "outputs": []
    },
    {
      "cell_type": "code",
      "metadata": {
        "colab": {
          "base_uri": "https://localhost:8080/",
          "height": 206
        },
        "id": "Rs69faI9eOU-",
        "outputId": "b0d9c644-a54a-4bf7-f077-4e2143879205"
      },
      "source": [
        "df2.head()"
      ],
      "execution_count": 18,
      "outputs": [
        {
          "output_type": "execute_result",
          "data": {
            "text/html": [
              "<div>\n",
              "<style scoped>\n",
              "    .dataframe tbody tr th:only-of-type {\n",
              "        vertical-align: middle;\n",
              "    }\n",
              "\n",
              "    .dataframe tbody tr th {\n",
              "        vertical-align: top;\n",
              "    }\n",
              "\n",
              "    .dataframe thead th {\n",
              "        text-align: right;\n",
              "    }\n",
              "</style>\n",
              "<table border=\"1\" class=\"dataframe\">\n",
              "  <thead>\n",
              "    <tr style=\"text-align: right;\">\n",
              "      <th></th>\n",
              "      <th>armsys</th>\n",
              "      <th>fingsys</th>\n",
              "    </tr>\n",
              "  </thead>\n",
              "  <tbody>\n",
              "    <tr>\n",
              "      <th>0</th>\n",
              "      <td>140</td>\n",
              "      <td>154</td>\n",
              "    </tr>\n",
              "    <tr>\n",
              "      <th>1</th>\n",
              "      <td>110</td>\n",
              "      <td>112</td>\n",
              "    </tr>\n",
              "    <tr>\n",
              "      <th>2</th>\n",
              "      <td>138</td>\n",
              "      <td>156</td>\n",
              "    </tr>\n",
              "    <tr>\n",
              "      <th>3</th>\n",
              "      <td>124</td>\n",
              "      <td>152</td>\n",
              "    </tr>\n",
              "    <tr>\n",
              "      <th>4</th>\n",
              "      <td>142</td>\n",
              "      <td>142</td>\n",
              "    </tr>\n",
              "  </tbody>\n",
              "</table>\n",
              "</div>"
            ],
            "text/plain": [
              "   armsys  fingsys\n",
              "0     140      154\n",
              "1     110      112\n",
              "2     138      156\n",
              "3     124      152\n",
              "4     142      142"
            ]
          },
          "metadata": {
            "tags": []
          },
          "execution_count": 18
        }
      ]
    },
    {
      "cell_type": "code",
      "metadata": {
        "colab": {
          "base_uri": "https://localhost:8080/"
        },
        "id": "CZJcQqyEeX3V",
        "outputId": "3ae7063a-e94e-4df7-a05c-8626ac24a4a9"
      },
      "source": [
        "df2.armsys.mean()"
      ],
      "execution_count": 24,
      "outputs": [
        {
          "output_type": "execute_result",
          "data": {
            "text/plain": [
              "128.52"
            ]
          },
          "metadata": {
            "tags": []
          },
          "execution_count": 24
        }
      ]
    },
    {
      "cell_type": "code",
      "metadata": {
        "colab": {
          "base_uri": "https://localhost:8080/"
        },
        "id": "SB4ZvAJOfteW",
        "outputId": "201ef222-9d01-41b1-8fcc-56c5bc54fdd2"
      },
      "source": [
        "df2.fingsys.mean()"
      ],
      "execution_count": 25,
      "outputs": [
        {
          "output_type": "execute_result",
          "data": {
            "text/plain": [
              "132.815"
            ]
          },
          "metadata": {
            "tags": []
          },
          "execution_count": 25
        }
      ]
    },
    {
      "cell_type": "markdown",
      "metadata": {
        "id": "xTo2stZFfLc0"
      },
      "source": [
        "**Z-Test: One Sample**"
      ]
    },
    {
      "cell_type": "markdown",
      "metadata": {
        "id": "lSN0HG755jc2"
      },
      "source": [
        "Assumptions:\n",
        "\n",
        "Hypothesis:\n",
        "* H0: Mean is not Equal to the given value.\n",
        "* H1: Mean is Equal to the given value.\n",
        "\n",
        "Rules: Reject the H0 when p < 0.05"
      ]
    },
    {
      "cell_type": "code",
      "metadata": {
        "colab": {
          "base_uri": "https://localhost:8080/"
        },
        "id": "PTaVUXHbNHb5",
        "outputId": "39946fa8-3364-450a-8bee-25674ae2cadd"
      },
      "source": [
        "from statsmodels.stats import weightstats as stests\n",
        "ztest ,pval = stests.ztest(df2['armsys'], value=126)\n",
        "\n",
        "print('p=%.6f' % (pval))\n",
        "if pval < 0.05:\n",
        "    print(\"Mean is NOT EQUAL to the given value / H0 Rejected\")\n",
        "else:\n",
        "    print(\"Mean is  EQUAL to the given value/ H0 Accepted\")"
      ],
      "execution_count": 29,
      "outputs": [
        {
          "output_type": "stream",
          "text": [
            "p=0.125930\n",
            "Mean is  EQUAL to the given value/ H0 Accepted\n"
          ],
          "name": "stdout"
        }
      ]
    },
    {
      "cell_type": "markdown",
      "metadata": {
        "id": "k8rnpx4BgVUs"
      },
      "source": [
        "**Z-Test: Indipendent Sample**"
      ]
    },
    {
      "cell_type": "code",
      "metadata": {
        "colab": {
          "base_uri": "https://localhost:8080/"
        },
        "id": "5Rp-_qGAfTrV",
        "outputId": "96bd22f5-df04-4296-ad09-7f46ffb39361"
      },
      "source": [
        "ztest ,pval1 = stests.ztest(df2['armsys'], x2=df2['fingsys'], value=0,alternative='two-sided')\n",
        "print(pval1)\n",
        "print('p=%.6f' % (pval1))\n",
        "if pval1 < 0.05:\n",
        "    print(\"Mean is NOT EQUAL to the given value / H0 Rejected\")\n",
        "else:\n",
        "    print(\"Mean is  EQUAL to the given value/ H0 Accepted\")"
      ],
      "execution_count": 30,
      "outputs": [
        {
          "output_type": "stream",
          "text": [
            "0.07954652069053099\n",
            "p=0.079547\n",
            "Mean is  EQUAL to the given value/ H0 Accepted\n"
          ],
          "name": "stdout"
        }
      ]
    },
    {
      "cell_type": "markdown",
      "metadata": {
        "id": "YbKgRNWzR_da"
      },
      "source": [
        "# **Parametric: T-Test**"
      ]
    },
    {
      "cell_type": "markdown",
      "metadata": {
        "id": "C5EJw-IT7KP_"
      },
      "source": [
        "**T-test: One Sample**"
      ]
    },
    {
      "cell_type": "markdown",
      "metadata": {
        "id": "9UAWhP6iSXeZ"
      },
      "source": [
        "Assumptions:\n",
        "* Observation is independent and identically distributed (iid).\n",
        "* Norrmally distributed.\n",
        "* Sample size is large\n",
        "\n",
        "Hypothesis:\n",
        "* H0: the means of the samples are equal.\n",
        "* H1: the means of the samples are unequal.\n",
        "\n",
        "Rules: Reject the H0 when p < 0.05"
      ]
    },
    {
      "cell_type": "code",
      "metadata": {
        "colab": {
          "base_uri": "https://localhost:8080/"
        },
        "id": "NOf8rD116T4l",
        "outputId": "79b9192e-b8fe-44c6-89fe-792bbb483da9"
      },
      "source": [
        "df1.Age.mean()"
      ],
      "execution_count": 31,
      "outputs": [
        {
          "output_type": "execute_result",
          "data": {
            "text/plain": [
              "44.315"
            ]
          },
          "metadata": {
            "tags": []
          },
          "execution_count": 31
        }
      ]
    },
    {
      "cell_type": "code",
      "metadata": {
        "colab": {
          "base_uri": "https://localhost:8080/"
        },
        "id": "f3EgR5Sn6kR-",
        "outputId": "8acbde4a-d20b-416b-9c4d-66737e5e9825"
      },
      "source": [
        "from scipy.stats import ttest_1samp\n",
        "from scipy import stats\n",
        "import numpy as np\n",
        "tset, pval = ttest_1samp(df1[\"Age\"], 43)\n",
        "print('p=',pval)\n",
        "if pval < 0.05:    # alpha value is 0.05 or 5%\n",
        "    print(\"Mean is  NOT EQUAL to the given value /H0 Rejected\")\n",
        "else:\n",
        "    print(\"Mean is  EQUAL to the given value /H0 Accepted\")"
      ],
      "execution_count": 36,
      "outputs": [
        {
          "output_type": "stream",
          "text": [
            "p= 0.26233895951766983\n",
            "Mean is  EQUAL to the given value /H0 Accepted\n"
          ],
          "name": "stdout"
        }
      ]
    },
    {
      "cell_type": "markdown",
      "metadata": {
        "id": "cfYr8Bul7h4e"
      },
      "source": [
        "**T-test: Independent Sample**"
      ]
    },
    {
      "cell_type": "markdown",
      "metadata": {
        "id": "nXCWhFxDL7lJ"
      },
      "source": [
        "Assumptions:\n",
        "\n",
        "* Observations in each sample are independent and identically distributed (iid).\n",
        "* Observations in each sample are normally distributed.\n",
        "* Observations in each sample have the same variance.\n",
        "* Samole size is large\n"
      ]
    },
    {
      "cell_type": "code",
      "metadata": {
        "colab": {
          "base_uri": "https://localhost:8080/"
        },
        "id": "VpPm0T5YZ5VH",
        "outputId": "f5f7e472-7e19-41b3-99ad-8b678e9ca00e"
      },
      "source": [
        "df1.groupby('Sex')['Na_to_K'].mean()"
      ],
      "execution_count": 38,
      "outputs": [
        {
          "output_type": "execute_result",
          "data": {
            "text/plain": [
              "Sex\n",
              "F    17.022062\n",
              "M    15.219029\n",
              "Name: Na_to_K, dtype: float64"
            ]
          },
          "metadata": {
            "tags": []
          },
          "execution_count": 38
        }
      ]
    },
    {
      "cell_type": "code",
      "metadata": {
        "id": "Gns0EF2AVJz0"
      },
      "source": [
        "female=df1.query('Sex==\"F\"')[\"Na_to_K\"]\n",
        "male=df1.query('Sex==\"M\"')[\"Na_to_K\"]"
      ],
      "execution_count": 39,
      "outputs": []
    },
    {
      "cell_type": "code",
      "metadata": {
        "colab": {
          "base_uri": "https://localhost:8080/"
        },
        "id": "IVfx0gsMl_7o",
        "outputId": "d8806584-32f0-4542-b866-1f9b6d30234b"
      },
      "source": [
        "# Example of the Student's t-test\n",
        "from scipy.stats import ttest_ind\n",
        "\n",
        "stat, p = ttest_ind(male, female)\n",
        "\n",
        "print('p=',pval)\n",
        "if pval < 0.05:    # alpha value is 0.05 or 5%\n",
        "    print(\"Means are NOT EQUAL/ H0 Rejected\")\n",
        "else:\n",
        "    print(\"Means are  EQUAL/H0 Accepted\")"
      ],
      "execution_count": 41,
      "outputs": [
        {
          "output_type": "stream",
          "text": [
            "p= 0.26233895951766983\n",
            "Means are  EQUAL/H0 Accepted\n"
          ],
          "name": "stdout"
        }
      ]
    },
    {
      "cell_type": "markdown",
      "metadata": {
        "id": "r_1mjtx7-Qvz"
      },
      "source": [
        "**T-test: Paired**"
      ]
    },
    {
      "cell_type": "markdown",
      "metadata": {
        "id": "UKvMbVmrNJLI"
      },
      "source": [
        "Assumptions\n",
        "\n",
        "* Observations in each sample are independent and identically distributed (iid).\n",
        "* Observations in each sample are normally distributed.\n",
        "* Observations in each sample have the same variance.\n",
        "* Observations across each sample are paired.\n",
        "\n",
        "Hypothesis:\n",
        "* H0: the means of the samples are equal.\n",
        "* H1: the means of the samples are unequal."
      ]
    },
    {
      "cell_type": "code",
      "metadata": {
        "id": "B0c_jSNpaZga"
      },
      "source": [
        "PreCOVIDIncome = [18,27,34,26,55,40,70,18,105,45]\n",
        "PostCOVIDIncome = [18,15,25,26,55,20,80,10,105,33]"
      ],
      "execution_count": 42,
      "outputs": []
    },
    {
      "cell_type": "code",
      "metadata": {
        "colab": {
          "base_uri": "https://localhost:8080/"
        },
        "id": "5DSCFauvmkgf",
        "outputId": "275d4110-df3d-4061-85b1-aba465f433b1"
      },
      "source": [
        "# Example of the Paired Student's t-test\n",
        "from scipy.stats import ttest_rel\n",
        "\n",
        "stat, p = ttest_rel(PreCOVIDIncome, PostCOVIDIncome)\n",
        "print('stat=%.3f, p=%.3f' % (stat, p))\n",
        "if p < 0.05:\n",
        "\tprint('Means are NOT EQUAL/ H0 Rejected')\n",
        "else:\n",
        "\tprint('Means are  EQUAL/ H0 Accepted')"
      ],
      "execution_count": 43,
      "outputs": [
        {
          "output_type": "stream",
          "text": [
            "stat=1.865, p=0.095\n",
            "Means are  EQUAL/ H0 Accepted\n"
          ],
          "name": "stdout"
        }
      ]
    },
    {
      "cell_type": "markdown",
      "metadata": {
        "id": "TW5kmcD1oJVk"
      },
      "source": [
        "# **Paremetric: ANOVA Test / F-Test**"
      ]
    },
    {
      "cell_type": "markdown",
      "metadata": {
        "id": "J0BeGaiQ-nI3"
      },
      "source": [
        "Tests whether the means of ***two or more*** independent samples are significantly different.\n",
        "\n",
        "Assumptions:\n",
        "* Observations in each sample are independent and identically distributed (iid).\n",
        "* Observations in each sample are normally distributed.\n",
        "* Observations in each sample have the same variance.\n",
        "\n",
        "Hypothesis:\n",
        "* H0: the means of the samples are equal.\n",
        "* H1: one or more of the means of the samples are unequal."
      ]
    },
    {
      "cell_type": "markdown",
      "metadata": {
        "id": "QdEK2pcq-vAn"
      },
      "source": [
        "**ANOVA-One Way**"
      ]
    },
    {
      "cell_type": "code",
      "metadata": {
        "colab": {
          "base_uri": "https://localhost:8080/"
        },
        "id": "28haZadu-omv",
        "outputId": "7bb491f9-b78b-45b4-e07c-e91e5cafd48c"
      },
      "source": [
        "# Example of the Analysis of Variance Test\n",
        "from scipy.stats import f_oneway\n",
        "ResultJony = [75,88,56,78,91]\n",
        "ResultAnik = [70,44,88,55,74]\n",
        "ResultTony= [55,76,88,90,91]\n",
        "stat, p = f_oneway(ResultJony, ResultAnik, ResultTony)\n",
        "print('stat=%.3f, p=%.3f' % (stat, p))\n",
        "if p < 0.05:\n",
        "\tprint('Means are NOT EQUAL/ H0 Rejected')\n",
        "else:\n",
        "\tprint('Means are EQUAL/ H0 Accepted')"
      ],
      "execution_count": 44,
      "outputs": [
        {
          "output_type": "stream",
          "text": [
            "stat=1.142, p=0.352\n",
            "Means are EQUAL/ H0 Accepted\n"
          ],
          "name": "stdout"
        }
      ]
    },
    {
      "cell_type": "code",
      "metadata": {
        "colab": {
          "base_uri": "https://localhost:8080/"
        },
        "id": "h7T_Rul5PU68",
        "outputId": "eaa48582-28fc-4c00-fb8e-2fd396734b6b"
      },
      "source": [
        "import statsmodels.api as sm\n",
        "from statsmodels.formula.api import ols"
      ],
      "execution_count": null,
      "outputs": [
        {
          "output_type": "stream",
          "text": [
            "/usr/local/lib/python3.7/dist-packages/statsmodels/tools/_testing.py:19: FutureWarning: pandas.util.testing is deprecated. Use the functions in the public API at pandas.testing instead.\n",
            "  import pandas.util.testing as tm\n"
          ],
          "name": "stderr"
        }
      ]
    },
    {
      "cell_type": "markdown",
      "metadata": {
        "id": "uVAWs9ejPujW"
      },
      "source": [
        "**ANOVA-Two Way**"
      ]
    },
    {
      "cell_type": "code",
      "metadata": {
        "colab": {
          "base_uri": "https://localhost:8080/",
          "height": 206
        },
        "id": "FV1OioCZPYNN",
        "outputId": "18566d78-b9e1-4582-98bb-38a04ea15f88"
      },
      "source": [
        "df_anova2 = pd.read_csv(\"https://raw.githubusercontent.com/Opensourcefordatascience/Data-sets/master/crop_yield.csv\")\n",
        "df_anova2.head()"
      ],
      "execution_count": null,
      "outputs": [
        {
          "output_type": "execute_result",
          "data": {
            "text/html": [
              "<div>\n",
              "<style scoped>\n",
              "    .dataframe tbody tr th:only-of-type {\n",
              "        vertical-align: middle;\n",
              "    }\n",
              "\n",
              "    .dataframe tbody tr th {\n",
              "        vertical-align: top;\n",
              "    }\n",
              "\n",
              "    .dataframe thead th {\n",
              "        text-align: right;\n",
              "    }\n",
              "</style>\n",
              "<table border=\"1\" class=\"dataframe\">\n",
              "  <thead>\n",
              "    <tr style=\"text-align: right;\">\n",
              "      <th></th>\n",
              "      <th>Fert</th>\n",
              "      <th>Water</th>\n",
              "      <th>Yield</th>\n",
              "    </tr>\n",
              "  </thead>\n",
              "  <tbody>\n",
              "    <tr>\n",
              "      <th>0</th>\n",
              "      <td>A</td>\n",
              "      <td>High</td>\n",
              "      <td>27.4</td>\n",
              "    </tr>\n",
              "    <tr>\n",
              "      <th>1</th>\n",
              "      <td>A</td>\n",
              "      <td>High</td>\n",
              "      <td>33.6</td>\n",
              "    </tr>\n",
              "    <tr>\n",
              "      <th>2</th>\n",
              "      <td>A</td>\n",
              "      <td>High</td>\n",
              "      <td>29.8</td>\n",
              "    </tr>\n",
              "    <tr>\n",
              "      <th>3</th>\n",
              "      <td>A</td>\n",
              "      <td>High</td>\n",
              "      <td>35.2</td>\n",
              "    </tr>\n",
              "    <tr>\n",
              "      <th>4</th>\n",
              "      <td>A</td>\n",
              "      <td>High</td>\n",
              "      <td>33.0</td>\n",
              "    </tr>\n",
              "  </tbody>\n",
              "</table>\n",
              "</div>"
            ],
            "text/plain": [
              "  Fert Water  Yield\n",
              "0    A  High   27.4\n",
              "1    A  High   33.6\n",
              "2    A  High   29.8\n",
              "3    A  High   35.2\n",
              "4    A  High   33.0"
            ]
          },
          "metadata": {
            "tags": []
          },
          "execution_count": 28
        }
      ]
    },
    {
      "cell_type": "code",
      "metadata": {
        "colab": {
          "base_uri": "https://localhost:8080/",
          "height": 192
        },
        "id": "4NDd4wCNPgp6",
        "outputId": "16fb9773-f433-4f4c-eb1e-9a80fb4d7304"
      },
      "source": [
        "model = ols('Yield ~ C(Fert)*C(Water)', df_anova2).fit()\n",
        "print(f\"Overall model F({model.df_model: .0f},{model.df_resid: .0f}) = {model.fvalue: .3f}, p = {model.f_pvalue: .4f}\")\n",
        "res = sm.stats.anova_lm(model, typ= 2)\n",
        "res"
      ],
      "execution_count": null,
      "outputs": [
        {
          "output_type": "stream",
          "text": [
            "Overall model F( 3, 16) =  4.112, p =  0.0243\n"
          ],
          "name": "stdout"
        },
        {
          "output_type": "execute_result",
          "data": {
            "text/html": [
              "<div>\n",
              "<style scoped>\n",
              "    .dataframe tbody tr th:only-of-type {\n",
              "        vertical-align: middle;\n",
              "    }\n",
              "\n",
              "    .dataframe tbody tr th {\n",
              "        vertical-align: top;\n",
              "    }\n",
              "\n",
              "    .dataframe thead th {\n",
              "        text-align: right;\n",
              "    }\n",
              "</style>\n",
              "<table border=\"1\" class=\"dataframe\">\n",
              "  <thead>\n",
              "    <tr style=\"text-align: right;\">\n",
              "      <th></th>\n",
              "      <th>sum_sq</th>\n",
              "      <th>df</th>\n",
              "      <th>F</th>\n",
              "      <th>PR(&gt;F)</th>\n",
              "    </tr>\n",
              "  </thead>\n",
              "  <tbody>\n",
              "    <tr>\n",
              "      <th>C(Fert)</th>\n",
              "      <td>69.192</td>\n",
              "      <td>1.0</td>\n",
              "      <td>5.766000</td>\n",
              "      <td>0.028847</td>\n",
              "    </tr>\n",
              "    <tr>\n",
              "      <th>C(Water)</th>\n",
              "      <td>63.368</td>\n",
              "      <td>1.0</td>\n",
              "      <td>5.280667</td>\n",
              "      <td>0.035386</td>\n",
              "    </tr>\n",
              "    <tr>\n",
              "      <th>C(Fert):C(Water)</th>\n",
              "      <td>15.488</td>\n",
              "      <td>1.0</td>\n",
              "      <td>1.290667</td>\n",
              "      <td>0.272656</td>\n",
              "    </tr>\n",
              "    <tr>\n",
              "      <th>Residual</th>\n",
              "      <td>192.000</td>\n",
              "      <td>16.0</td>\n",
              "      <td>NaN</td>\n",
              "      <td>NaN</td>\n",
              "    </tr>\n",
              "  </tbody>\n",
              "</table>\n",
              "</div>"
            ],
            "text/plain": [
              "                   sum_sq    df         F    PR(>F)\n",
              "C(Fert)            69.192   1.0  5.766000  0.028847\n",
              "C(Water)           63.368   1.0  5.280667  0.035386\n",
              "C(Fert):C(Water)   15.488   1.0  1.290667  0.272656\n",
              "Residual          192.000  16.0       NaN       NaN"
            ]
          },
          "metadata": {
            "tags": []
          },
          "execution_count": 29
        }
      ]
    },
    {
      "cell_type": "markdown",
      "metadata": {
        "id": "KSR0jT-1_nLH"
      },
      "source": [
        "# **Non-parametric**"
      ]
    },
    {
      "cell_type": "markdown",
      "metadata": {
        "id": "ksiDVS5AACLW"
      },
      "source": [
        "**Mann-Whitney U Test**"
      ]
    },
    {
      "cell_type": "markdown",
      "metadata": {
        "id": "3QOrw-vJVTYn"
      },
      "source": [
        "Assumptions\n",
        "* Observations in each sample are independent and identically distributed (iid).\n",
        "* Observations in each sample can be ranked.\n",
        "\n",
        "Hypothesis:\n",
        "* H0: Sample means are equal.\n",
        "* H1: Sample means are not equal.\n",
        "\n",
        "Rules: Reject the H0 when p < 0.05"
      ]
    },
    {
      "cell_type": "code",
      "metadata": {
        "colab": {
          "base_uri": "https://localhost:8080/"
        },
        "id": "EDWietdJ_13G",
        "outputId": "e743d2b8-f0af-4ce9-fe79-44ad630b9edf"
      },
      "source": [
        "# Example of the Mann-Whitney U Test\n",
        "from scipy.stats import mannwhitneyu\n",
        "data1 = [0.873, 2.817, 0.121, -0.945, -0.055, -1.436, 0.360, -1.478, -1.637, -1.869]\n",
        "data2 = [1.142, -0.432, -0.938, -0.729, -0.846, -0.157, 0.500, 1.183, -1.075, -0.169]\n",
        "stat, p = mannwhitneyu(data1, data2)\n",
        "print('stat=%.3f, p=%.3f' % (stat, p))\n",
        "if p < 0.05:\n",
        "\tprint('Means are NOT EQUAL / H0 Rejected')\n",
        "else:\n",
        "\tprint('Means are EQUAL / H0 Accepted')"
      ],
      "execution_count": null,
      "outputs": [
        {
          "output_type": "stream",
          "text": [
            "stat=40.000, p=0.236\n",
            "Means are EQUAL / H0 Accepted\n"
          ],
          "name": "stdout"
        }
      ]
    },
    {
      "cell_type": "markdown",
      "metadata": {
        "id": "ipLgqm7Q__sX"
      },
      "source": [
        "**Wilcoxon Signed-Rank Test**"
      ]
    },
    {
      "cell_type": "markdown",
      "metadata": {
        "id": "vmVzH2iFWJ_B"
      },
      "source": [
        "Assumptions\n",
        "\n",
        "* Observations in each sample are independent and identically distributed (iid).\n",
        "* Observations in each sample can be ranked.\n",
        "* Observations across each sample are paired."
      ]
    },
    {
      "cell_type": "code",
      "metadata": {
        "id": "ni6TAnN6_9M_",
        "colab": {
          "base_uri": "https://localhost:8080/"
        },
        "outputId": "c18742fe-9418-4b70-8666-d527371b61a2"
      },
      "source": [
        "# Example of the Wilcoxon Signed-Rank Test\n",
        "from scipy.stats import wilcoxon\n",
        "data1 = [0.873, 2.817, 0.121, -0.945, -0.055, -1.436, 0.360, -1.478, -1.637, -1.869]\n",
        "data2 = [1.142, -0.432, -0.938, -0.729, -0.846, -0.157, 0.500, 1.183, -1.075, -0.169]\n",
        "stat, p = wilcoxon(data1, data2)\n",
        "print('stat=%.3f, p=%.3f' % (stat, p))\n",
        "if p < 0.05:\n",
        "\tprint('Means are NOT EQUAL / H0 Rejected')\n",
        "else:\n",
        "\tprint('Means are EQUAL / H0 Accepted')"
      ],
      "execution_count": null,
      "outputs": [
        {
          "output_type": "stream",
          "text": [
            "stat=21.000, p=0.508\n",
            "Means are EQUAL / H0 Accepted\n"
          ],
          "name": "stdout"
        }
      ]
    },
    {
      "cell_type": "markdown",
      "metadata": {
        "id": "6elIeqQDAM4G"
      },
      "source": [
        "**Kruskal-Wallis H Test**"
      ]
    },
    {
      "cell_type": "markdown",
      "metadata": {
        "id": "otP7hnK3Wqs8"
      },
      "source": [
        "Assumptions:\n",
        "\n",
        "* Observations in each sample are independent and identically distributed (iid).\n",
        "* Observations in each sample can be ranked."
      ]
    },
    {
      "cell_type": "code",
      "metadata": {
        "colab": {
          "base_uri": "https://localhost:8080/"
        },
        "id": "dR1QRz5xAJWu",
        "outputId": "16bf4d75-6aba-42b4-d9da-10d148a03069"
      },
      "source": [
        "from scipy.stats import kruskal\n",
        "data1 = [0.873, 2.817, 0.121, -0.945, -0.055, -1.436, 0.360, -1.478, -1.637, -1.869]\n",
        "data2 = [1.142, -0.432, -0.938, -0.729, -0.846, -0.157, 0.500, 1.183, -1.075, -0.169]\n",
        "stat, p = kruskal(data1, data2)\n",
        "print('stat=%.3f, p=%.3f' % (stat, p))\n",
        "if p < 0.05:\n",
        "\tprint('Means are NOT EQUAL / H0 Rejected')\n",
        "else:\n",
        "\tprint('Means are EQUAL / H0 Accepted')"
      ],
      "execution_count": null,
      "outputs": [
        {
          "output_type": "stream",
          "text": [
            "stat=0.571, p=0.450\n",
            "Means are EQUAL / H0 Accepted\n"
          ],
          "name": "stdout"
        }
      ]
    },
    {
      "cell_type": "markdown",
      "metadata": {
        "id": "i0Mv6rUDAU7f"
      },
      "source": [
        "**Friedman Test**"
      ]
    },
    {
      "cell_type": "markdown",
      "metadata": {
        "id": "rIIZSvzxW6-P"
      },
      "source": [
        "Assumptions\n",
        "\n",
        "* Observations in each sample are independent and identically distributed (iid).\n",
        "* Observations in each sample can be ranked.\n",
        "* Observations across each sample are paired."
      ]
    },
    {
      "cell_type": "code",
      "metadata": {
        "colab": {
          "base_uri": "https://localhost:8080/"
        },
        "id": "K17qlT4XASqG",
        "outputId": "6dcea136-7095-49b7-c6ee-67124aa95f09"
      },
      "source": [
        "# Example of the Friedman Test\n",
        "from scipy.stats import friedmanchisquare\n",
        "data1 = [0.873, 2.817, 0.121, -0.945, -0.055, -1.436, 0.360, -1.478, -1.637, -1.869]\n",
        "data2 = [1.142, -0.432, -0.938, -0.729, -0.846, -0.157, 0.500, 1.183, -1.075, -0.169]\n",
        "data3 = [-0.208, 0.696, 0.928, -1.148, -0.213, 0.229, 0.137, 0.269, -0.870, -1.204]\n",
        "stat, p = friedmanchisquare(data1, data2, data3)\n",
        "print('stat=%.3f, p=%.3f' % (stat, p))\n",
        "if p < 0.05:\n",
        "\tprint('Means are NOT EQUAL / H0 Rejected')\n",
        "else:\n",
        "\tprint('Means are EQUAL / H0 Accepted')"
      ],
      "execution_count": null,
      "outputs": [
        {
          "output_type": "stream",
          "text": [
            "stat=0.800, p=0.670\n",
            "Means are EQUAL / H0 Accepted\n"
          ],
          "name": "stdout"
        }
      ]
    }
  ]
}