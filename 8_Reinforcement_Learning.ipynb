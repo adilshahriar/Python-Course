{
  "nbformat": 4,
  "nbformat_minor": 0,
  "metadata": {
    "colab": {
      "name": "8-Reinforcement Learning.ipynb",
      "provenance": []
    },
    "kernelspec": {
      "name": "python3",
      "display_name": "Python 3"
    }
  },
  "cells": [
    {
      "cell_type": "code",
      "metadata": {
        "id": "KBNvf8_4fwr8"
      },
      "source": [
        "import numpy as np \n",
        "import pylab as pl \n",
        "import networkx as nx "
      ],
      "execution_count": 1,
      "outputs": []
    },
    {
      "cell_type": "code",
      "metadata": {
        "id": "R5hyRdENhxZJ",
        "colab": {
          "base_uri": "https://localhost:8080/",
          "height": 248
        },
        "outputId": "487f8296-6d12-4941-b155-baaf870d2e8f"
      },
      "source": [
        "edges = [(2,3), (0, 4), (4, 3), (1, 3), (1, 5),(1,4)] \n",
        "  \n",
        "goal = 5\n",
        "G = nx.Graph() \n",
        "G.add_edges_from(edges) \n",
        "pos = nx.spring_layout(G) \n",
        "nx.draw_networkx_nodes(G, pos) \n",
        "nx.draw_networkx_edges(G, pos) \n",
        "nx.draw_networkx_labels(G, pos) \n",
        "pl.show() "
      ],
      "execution_count": 2,
      "outputs": [
        {
          "output_type": "display_data",
          "data": {
            "image/png": "[encoded data removed]",
            "text/plain": [
              "<Figure size 432x288 with 1 Axes>"
            ]
          },
          "metadata": {}
        }
      ]
    },
    {
      "cell_type": "code",
      "metadata": {
        "id": "zcui09r1h5ob",
        "colab": {
          "base_uri": "https://localhost:8080/"
        },
        "outputId": "12725eae-3705-4f85-bd90-ad01ec7ce62f"
      },
      "source": [
        "MATRIX_SIZE = 6\n",
        "M = np.matrix(np.ones(shape =(MATRIX_SIZE, MATRIX_SIZE))) \n",
        "M *= -1\n",
        "  \n",
        "for point in edges: \n",
        "    print(point) \n",
        "    if point[1] == goal: \n",
        "        M[point] = 100\n",
        "    else: \n",
        "        M[point] = 0\n",
        "  \n",
        "    if point[0] == goal: \n",
        "        M[point[::-1]] = 100\n",
        "    else: \n",
        "        M[point[::-1]]= 0\n",
        "        # reverse of point \n",
        "  \n",
        "M[goal, goal]= 100\n",
        "print(M) "
      ],
      "execution_count": 3,
      "outputs": [
        {
          "output_type": "stream",
          "name": "stdout",
          "text": [
            "(2, 3)\n",
            "(0, 4)\n",
            "(4, 3)\n",
            "(1, 3)\n",
            "(1, 5)\n",
            "(1, 4)\n",
            "[[ -1.  -1.  -1.  -1.   0.  -1.]\n",
            " [ -1.  -1.  -1.   0.   0. 100.]\n",
            " [ -1.  -1.  -1.   0.  -1.  -1.]\n",
            " [ -1.   0.   0.  -1.   0.  -1.]\n",
            " [  0.   0.  -1.   0.  -1.  -1.]\n",
            " [ -1.   0.  -1.  -1.  -1. 100.]]\n"
          ]
        }
      ]
    },
    {
      "cell_type": "code",
      "metadata": {
        "id": "BYce8IOnh-pL",
        "colab": {
          "base_uri": "https://localhost:8080/"
        },
        "outputId": "17359c7b-c631-418c-a6a2-ae048ffbb495"
      },
      "source": [
        "Q = np.matrix(np.zeros([MATRIX_SIZE, MATRIX_SIZE])) \n",
        "  \n",
        "gamma = 0.75\n",
        "# learning parameter \n",
        "initial_state =1\n",
        "  \n",
        "# Determines the available actions for a given state \n",
        "def available_actions(state): \n",
        "    current_state_row = M[state, ] \n",
        "    available_action = np.where(current_state_row >= 0)[1] \n",
        "    return available_action \n",
        "  \n",
        "available_action = available_actions(initial_state) \n",
        "  \n",
        "# Chooses one of the available actions at random \n",
        "def sample_next_action(available_actions_range): \n",
        "    next_action = int(np.random.choice(available_action, 1)) \n",
        "    return next_action \n",
        "  \n",
        "  \n",
        "action = sample_next_action(available_action) \n",
        "  \n",
        "def update(current_state, action, gamma): \n",
        "  \n",
        "  max_index = np.where(Q[action, ] == np.max(Q[action, ]))[1] \n",
        "  if max_index.shape[0] > 1: \n",
        "      max_index = int(np.random.choice(max_index, size = 1)) \n",
        "  else: \n",
        "      max_index = int(max_index) \n",
        "  max_value = Q[action, max_index] \n",
        "  Q[current_state, action] = M[current_state, action] + gamma * max_value \n",
        "  if (np.max(Q) > 0): \n",
        "    return(np.sum(Q / np.max(Q)*100)) \n",
        "  else: \n",
        "    return (0) \n",
        "# Updates the Q-Matrix according to the path chosen \n",
        "  \n",
        "update(initial_state, action, gamma) "
      ],
      "execution_count": 4,
      "outputs": [
        {
          "output_type": "execute_result",
          "data": {
            "text/plain": [
              "0"
            ]
          },
          "metadata": {},
          "execution_count": 4
        }
      ]
    },
    {
      "cell_type": "code",
      "metadata": {
        "id": "eVv9FmSKiSgA",
        "colab": {
          "base_uri": "https://localhost:8080/",
          "height": 314
        },
        "outputId": "f74ae65e-ae0e-4c0a-a8a7-4f0b583c3b80"
      },
      "source": [
        "scores = [] \n",
        "for i in range(1000): \n",
        "    current_state = np.random.randint(0, int(Q.shape[0])) \n",
        "    available_action = available_actions(current_state) \n",
        "    action = sample_next_action(available_action) \n",
        "    score = update(current_state, action, gamma) \n",
        "    scores.append(score) \n",
        "  \n",
        "# print(\"Trained Q matrix:\") \n",
        "# print(Q / np.max(Q)*100) \n",
        "# You can uncomment the above two lines to view the trained Q matrix \n",
        "  \n",
        "# Testing \n",
        "current_state = 0\n",
        "steps = [current_state] \n",
        "  \n",
        "while current_state != 5: \n",
        "  \n",
        "    next_step_index = np.where(Q[current_state, ] == np.max(Q[current_state, ]))[1] \n",
        "    if next_step_index.shape[0] > 1: \n",
        "        next_step_index = int(np.random.choice(next_step_index, size = 1)) \n",
        "    else: \n",
        "        next_step_index = int(next_step_index) \n",
        "    steps.append(next_step_index) \n",
        "    current_state = next_step_index \n",
        "  \n",
        "print(\"Most efficient path:\") \n",
        "print(steps) \n",
        "  \n",
        "pl.plot(scores) \n",
        "pl.xlabel('No of iterations') \n",
        "pl.ylabel('Reward gained') \n",
        "pl.show() "
      ],
      "execution_count": 5,
      "outputs": [
        {
          "output_type": "stream",
          "name": "stdout",
          "text": [
            "Most efficient path:\n",
            "[0, 4, 1, 5]\n"
          ]
        },
        {
          "output_type": "display_data",
          "data": {
            "image/png": "[encoded data removed]",
            "text/plain": [
              "<Figure size 432x288 with 1 Axes>"
            ]
          },
          "metadata": {
            "needs_background": "light"
          }
        }
      ]
    }
  ]
}